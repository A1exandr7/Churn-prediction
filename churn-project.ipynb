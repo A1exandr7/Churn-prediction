{
 "cells": [
  {
   "cell_type": "markdown",
   "id": "d624f92c",
   "metadata": {},
   "source": [
    "# Проект: 'Отток клиентов'"
   ]
  },
  {
   "cell_type": "markdown",
   "id": "fbbf5521",
   "metadata": {},
   "source": [
    "**Предыстория:** Из «Бета-Банка» стали уходить клиенты. Каждый месяц. Немного, но заметно. Банковские маркетологи посчитали: сохранять текущих клиентов дешевле, чем привлекать новых.\n",
    "## Цель проекта: \n",
    "- 1)Спрогнозировать, уйдёт клиент из банка в ближайшее время или нет \n",
    "- 2) Построить модель с предельно большим значением (не менее 0.59) F1-меры "
   ]
  },
  {
   "cell_type": "markdown",
   "id": "77c406f3",
   "metadata": {},
   "source": [
    "### Описание данных\n",
    "**Признаки:**\n",
    "- `RowNumber` — индекс строки в данных\n",
    "- `CustomerId` — уникальный идентификатор клиента\n",
    "- `Surname` — фамилия\n",
    "- `CreditScore` — кредитный рейтинг\n",
    "- `Geography` — страна проживания\n",
    "- `Gender` — пол\n",
    "- `Age` — возраст\n",
    "- `Tenure` — сколько лет человек является клиентом банка\n",
    "- `Balance` — баланс на счёте\n",
    "- `NumOfProducts` — количество продуктов банка, используемых клиентом\n",
    "- `HasCrCard` — наличие кредитной карты\n",
    "- `IsActiveMember` — активность клиента\n",
    "- `EstimatedSalary` — предполагаемая зарплата\n",
    "\n",
    "**Целевой признак:**\n",
    "- `Exited` — факт ухода клиента"
   ]
  },
  {
   "cell_type": "code",
   "execution_count": 1,
   "id": "75b6f577",
   "metadata": {},
   "outputs": [],
   "source": [
    "# импортируем нужные для работы библиотеки\n",
    "import pandas as pd\n",
    "import seaborn as sns\n",
    "import matplotlib.pyplot as plt\n",
    "from sklearn.model_selection import train_test_split\n",
    "from sklearn.utils import shuffle\n",
    "from sklearn.preprocessing import StandardScaler\n",
    "from sklearn.ensemble import RandomForestClassifier\n",
    "from sklearn.linear_model import LogisticRegression\n",
    "from sklearn.metrics import roc_auc_score, roc_curve, confusion_matrix, f1_score, precision_recall_curve\n",
    "from sklearn.metrics import precision_score, recall_score\n",
    "from sklearn.model_selection import GridSearchCV\n",
    "pd.options.mode.chained_assignment = None"
   ]
  },
  {
   "cell_type": "markdown",
   "id": "0e8b0270",
   "metadata": {},
   "source": [
    "## Подготовка данных"
   ]
  },
  {
   "cell_type": "code",
   "execution_count": 2,
   "id": "00dfb66f",
   "metadata": {},
   "outputs": [],
   "source": [
    "#загрузим данные\n",
    "server = '/datasets/Churn.csv'                \n",
    "local = 'Churn.csv'\n",
    "try:\n",
    "    df = pd.read_csv(server)\n",
    "except: \n",
    "    df = pd.read_csv(local)"
   ]
  },
  {
   "cell_type": "code",
   "execution_count": 3,
   "id": "172624d8",
   "metadata": {},
   "outputs": [
    {
     "data": {
      "text/html": [
       "<div>\n",
       "<style scoped>\n",
       "    .dataframe tbody tr th:only-of-type {\n",
       "        vertical-align: middle;\n",
       "    }\n",
       "\n",
       "    .dataframe tbody tr th {\n",
       "        vertical-align: top;\n",
       "    }\n",
       "\n",
       "    .dataframe thead th {\n",
       "        text-align: right;\n",
       "    }\n",
       "</style>\n",
       "<table border=\"1\" class=\"dataframe\">\n",
       "  <thead>\n",
       "    <tr style=\"text-align: right;\">\n",
       "      <th></th>\n",
       "      <th>RowNumber</th>\n",
       "      <th>CustomerId</th>\n",
       "      <th>Surname</th>\n",
       "      <th>CreditScore</th>\n",
       "      <th>Geography</th>\n",
       "      <th>Gender</th>\n",
       "      <th>Age</th>\n",
       "      <th>Tenure</th>\n",
       "      <th>Balance</th>\n",
       "      <th>NumOfProducts</th>\n",
       "      <th>HasCrCard</th>\n",
       "      <th>IsActiveMember</th>\n",
       "      <th>EstimatedSalary</th>\n",
       "      <th>Exited</th>\n",
       "    </tr>\n",
       "  </thead>\n",
       "  <tbody>\n",
       "    <tr>\n",
       "      <th>0</th>\n",
       "      <td>1</td>\n",
       "      <td>15634602</td>\n",
       "      <td>Hargrave</td>\n",
       "      <td>619</td>\n",
       "      <td>France</td>\n",
       "      <td>Female</td>\n",
       "      <td>42</td>\n",
       "      <td>2.0</td>\n",
       "      <td>0.00</td>\n",
       "      <td>1</td>\n",
       "      <td>1</td>\n",
       "      <td>1</td>\n",
       "      <td>101348.88</td>\n",
       "      <td>1</td>\n",
       "    </tr>\n",
       "    <tr>\n",
       "      <th>1</th>\n",
       "      <td>2</td>\n",
       "      <td>15647311</td>\n",
       "      <td>Hill</td>\n",
       "      <td>608</td>\n",
       "      <td>Spain</td>\n",
       "      <td>Female</td>\n",
       "      <td>41</td>\n",
       "      <td>1.0</td>\n",
       "      <td>83807.86</td>\n",
       "      <td>1</td>\n",
       "      <td>0</td>\n",
       "      <td>1</td>\n",
       "      <td>112542.58</td>\n",
       "      <td>0</td>\n",
       "    </tr>\n",
       "    <tr>\n",
       "      <th>2</th>\n",
       "      <td>3</td>\n",
       "      <td>15619304</td>\n",
       "      <td>Onio</td>\n",
       "      <td>502</td>\n",
       "      <td>France</td>\n",
       "      <td>Female</td>\n",
       "      <td>42</td>\n",
       "      <td>8.0</td>\n",
       "      <td>159660.80</td>\n",
       "      <td>3</td>\n",
       "      <td>1</td>\n",
       "      <td>0</td>\n",
       "      <td>113931.57</td>\n",
       "      <td>1</td>\n",
       "    </tr>\n",
       "    <tr>\n",
       "      <th>3</th>\n",
       "      <td>4</td>\n",
       "      <td>15701354</td>\n",
       "      <td>Boni</td>\n",
       "      <td>699</td>\n",
       "      <td>France</td>\n",
       "      <td>Female</td>\n",
       "      <td>39</td>\n",
       "      <td>1.0</td>\n",
       "      <td>0.00</td>\n",
       "      <td>2</td>\n",
       "      <td>0</td>\n",
       "      <td>0</td>\n",
       "      <td>93826.63</td>\n",
       "      <td>0</td>\n",
       "    </tr>\n",
       "    <tr>\n",
       "      <th>4</th>\n",
       "      <td>5</td>\n",
       "      <td>15737888</td>\n",
       "      <td>Mitchell</td>\n",
       "      <td>850</td>\n",
       "      <td>Spain</td>\n",
       "      <td>Female</td>\n",
       "      <td>43</td>\n",
       "      <td>2.0</td>\n",
       "      <td>125510.82</td>\n",
       "      <td>1</td>\n",
       "      <td>1</td>\n",
       "      <td>1</td>\n",
       "      <td>79084.10</td>\n",
       "      <td>0</td>\n",
       "    </tr>\n",
       "    <tr>\n",
       "      <th>...</th>\n",
       "      <td>...</td>\n",
       "      <td>...</td>\n",
       "      <td>...</td>\n",
       "      <td>...</td>\n",
       "      <td>...</td>\n",
       "      <td>...</td>\n",
       "      <td>...</td>\n",
       "      <td>...</td>\n",
       "      <td>...</td>\n",
       "      <td>...</td>\n",
       "      <td>...</td>\n",
       "      <td>...</td>\n",
       "      <td>...</td>\n",
       "      <td>...</td>\n",
       "    </tr>\n",
       "    <tr>\n",
       "      <th>9995</th>\n",
       "      <td>9996</td>\n",
       "      <td>15606229</td>\n",
       "      <td>Obijiaku</td>\n",
       "      <td>771</td>\n",
       "      <td>France</td>\n",
       "      <td>Male</td>\n",
       "      <td>39</td>\n",
       "      <td>5.0</td>\n",
       "      <td>0.00</td>\n",
       "      <td>2</td>\n",
       "      <td>1</td>\n",
       "      <td>0</td>\n",
       "      <td>96270.64</td>\n",
       "      <td>0</td>\n",
       "    </tr>\n",
       "    <tr>\n",
       "      <th>9996</th>\n",
       "      <td>9997</td>\n",
       "      <td>15569892</td>\n",
       "      <td>Johnstone</td>\n",
       "      <td>516</td>\n",
       "      <td>France</td>\n",
       "      <td>Male</td>\n",
       "      <td>35</td>\n",
       "      <td>10.0</td>\n",
       "      <td>57369.61</td>\n",
       "      <td>1</td>\n",
       "      <td>1</td>\n",
       "      <td>1</td>\n",
       "      <td>101699.77</td>\n",
       "      <td>0</td>\n",
       "    </tr>\n",
       "    <tr>\n",
       "      <th>9997</th>\n",
       "      <td>9998</td>\n",
       "      <td>15584532</td>\n",
       "      <td>Liu</td>\n",
       "      <td>709</td>\n",
       "      <td>France</td>\n",
       "      <td>Female</td>\n",
       "      <td>36</td>\n",
       "      <td>7.0</td>\n",
       "      <td>0.00</td>\n",
       "      <td>1</td>\n",
       "      <td>0</td>\n",
       "      <td>1</td>\n",
       "      <td>42085.58</td>\n",
       "      <td>1</td>\n",
       "    </tr>\n",
       "    <tr>\n",
       "      <th>9998</th>\n",
       "      <td>9999</td>\n",
       "      <td>15682355</td>\n",
       "      <td>Sabbatini</td>\n",
       "      <td>772</td>\n",
       "      <td>Germany</td>\n",
       "      <td>Male</td>\n",
       "      <td>42</td>\n",
       "      <td>3.0</td>\n",
       "      <td>75075.31</td>\n",
       "      <td>2</td>\n",
       "      <td>1</td>\n",
       "      <td>0</td>\n",
       "      <td>92888.52</td>\n",
       "      <td>1</td>\n",
       "    </tr>\n",
       "    <tr>\n",
       "      <th>9999</th>\n",
       "      <td>10000</td>\n",
       "      <td>15628319</td>\n",
       "      <td>Walker</td>\n",
       "      <td>792</td>\n",
       "      <td>France</td>\n",
       "      <td>Female</td>\n",
       "      <td>28</td>\n",
       "      <td>NaN</td>\n",
       "      <td>130142.79</td>\n",
       "      <td>1</td>\n",
       "      <td>1</td>\n",
       "      <td>0</td>\n",
       "      <td>38190.78</td>\n",
       "      <td>0</td>\n",
       "    </tr>\n",
       "  </tbody>\n",
       "</table>\n",
       "<p>10000 rows × 14 columns</p>\n",
       "</div>"
      ],
      "text/plain": [
       "      RowNumber  CustomerId    Surname  CreditScore Geography  Gender  Age  \\\n",
       "0             1    15634602   Hargrave          619    France  Female   42   \n",
       "1             2    15647311       Hill          608     Spain  Female   41   \n",
       "2             3    15619304       Onio          502    France  Female   42   \n",
       "3             4    15701354       Boni          699    France  Female   39   \n",
       "4             5    15737888   Mitchell          850     Spain  Female   43   \n",
       "...         ...         ...        ...          ...       ...     ...  ...   \n",
       "9995       9996    15606229   Obijiaku          771    France    Male   39   \n",
       "9996       9997    15569892  Johnstone          516    France    Male   35   \n",
       "9997       9998    15584532        Liu          709    France  Female   36   \n",
       "9998       9999    15682355  Sabbatini          772   Germany    Male   42   \n",
       "9999      10000    15628319     Walker          792    France  Female   28   \n",
       "\n",
       "      Tenure    Balance  NumOfProducts  HasCrCard  IsActiveMember  \\\n",
       "0        2.0       0.00              1          1               1   \n",
       "1        1.0   83807.86              1          0               1   \n",
       "2        8.0  159660.80              3          1               0   \n",
       "3        1.0       0.00              2          0               0   \n",
       "4        2.0  125510.82              1          1               1   \n",
       "...      ...        ...            ...        ...             ...   \n",
       "9995     5.0       0.00              2          1               0   \n",
       "9996    10.0   57369.61              1          1               1   \n",
       "9997     7.0       0.00              1          0               1   \n",
       "9998     3.0   75075.31              2          1               0   \n",
       "9999     NaN  130142.79              1          1               0   \n",
       "\n",
       "      EstimatedSalary  Exited  \n",
       "0           101348.88       1  \n",
       "1           112542.58       0  \n",
       "2           113931.57       1  \n",
       "3            93826.63       0  \n",
       "4            79084.10       0  \n",
       "...               ...     ...  \n",
       "9995         96270.64       0  \n",
       "9996        101699.77       0  \n",
       "9997         42085.58       1  \n",
       "9998         92888.52       1  \n",
       "9999         38190.78       0  \n",
       "\n",
       "[10000 rows x 14 columns]"
      ]
     },
     "execution_count": 3,
     "metadata": {},
     "output_type": "execute_result"
    }
   ],
   "source": [
    "df"
   ]
  },
  {
   "cell_type": "code",
   "execution_count": 4,
   "id": "33ffc42e",
   "metadata": {},
   "outputs": [
    {
     "name": "stdout",
     "output_type": "stream",
     "text": [
      "<class 'pandas.core.frame.DataFrame'>\n",
      "RangeIndex: 10000 entries, 0 to 9999\n",
      "Data columns (total 14 columns):\n",
      " #   Column           Non-Null Count  Dtype  \n",
      "---  ------           --------------  -----  \n",
      " 0   RowNumber        10000 non-null  int64  \n",
      " 1   CustomerId       10000 non-null  int64  \n",
      " 2   Surname          10000 non-null  object \n",
      " 3   CreditScore      10000 non-null  int64  \n",
      " 4   Geography        10000 non-null  object \n",
      " 5   Gender           10000 non-null  object \n",
      " 6   Age              10000 non-null  int64  \n",
      " 7   Tenure           9091 non-null   float64\n",
      " 8   Balance          10000 non-null  float64\n",
      " 9   NumOfProducts    10000 non-null  int64  \n",
      " 10  HasCrCard        10000 non-null  int64  \n",
      " 11  IsActiveMember   10000 non-null  int64  \n",
      " 12  EstimatedSalary  10000 non-null  float64\n",
      " 13  Exited           10000 non-null  int64  \n",
      "dtypes: float64(3), int64(8), object(3)\n",
      "memory usage: 1.1+ MB\n"
     ]
    }
   ],
   "source": [
    "df.info()"
   ]
  },
  {
   "cell_type": "markdown",
   "id": "141dfa22",
   "metadata": {},
   "source": [
    "-  В распоряжении имеем 10 тыс. объектов и 13 признаков для каждого 14-1(RowNumber - дублер индекса таблицы)"
   ]
  },
  {
   "cell_type": "markdown",
   "id": "98912149",
   "metadata": {},
   "source": [
    "### 1.1 Предобработка данных"
   ]
  },
  {
   "cell_type": "markdown",
   "id": "1643a29f",
   "metadata": {},
   "source": [
    "- На первый взгляд предобработки требуют следующие пункты:\n",
    "1. RowNumber - дублер индекса таблицы\n",
    "2. Приведем названия столбцов к нижнему регистру и snake_case"
   ]
  },
  {
   "cell_type": "code",
   "execution_count": 5,
   "id": "8394b81b",
   "metadata": {},
   "outputs": [
    {
     "data": {
      "text/plain": [
       "Index(['RowNumber', 'CustomerId', 'Surname', 'CreditScore', 'Geography',\n",
       "       'Gender', 'Age', 'Tenure', 'Balance', 'NumOfProducts', 'HasCrCard',\n",
       "       'IsActiveMember', 'EstimatedSalary', 'Exited'],\n",
       "      dtype='object')"
      ]
     },
     "execution_count": 5,
     "metadata": {},
     "output_type": "execute_result"
    }
   ],
   "source": [
    "#изучим столбцы\n",
    "df.columns"
   ]
  },
  {
   "cell_type": "code",
   "execution_count": 6,
   "id": "4757dc91",
   "metadata": {},
   "outputs": [],
   "source": [
    "#удалим столбец RowNumber\n",
    "df = df.drop(labels ='RowNumber',axis = 1).reset_index(drop=True)"
   ]
  },
  {
   "cell_type": "code",
   "execution_count": 7,
   "id": "8f1b96c1",
   "metadata": {},
   "outputs": [
    {
     "data": {
      "text/html": [
       "<div>\n",
       "<style scoped>\n",
       "    .dataframe tbody tr th:only-of-type {\n",
       "        vertical-align: middle;\n",
       "    }\n",
       "\n",
       "    .dataframe tbody tr th {\n",
       "        vertical-align: top;\n",
       "    }\n",
       "\n",
       "    .dataframe thead th {\n",
       "        text-align: right;\n",
       "    }\n",
       "</style>\n",
       "<table border=\"1\" class=\"dataframe\">\n",
       "  <thead>\n",
       "    <tr style=\"text-align: right;\">\n",
       "      <th></th>\n",
       "      <th>CustomerId</th>\n",
       "      <th>Surname</th>\n",
       "      <th>CreditScore</th>\n",
       "      <th>Geography</th>\n",
       "      <th>Gender</th>\n",
       "      <th>Age</th>\n",
       "      <th>Tenure</th>\n",
       "      <th>Balance</th>\n",
       "      <th>NumOfProducts</th>\n",
       "      <th>HasCrCard</th>\n",
       "      <th>IsActiveMember</th>\n",
       "      <th>EstimatedSalary</th>\n",
       "      <th>Exited</th>\n",
       "    </tr>\n",
       "  </thead>\n",
       "  <tbody>\n",
       "    <tr>\n",
       "      <th>0</th>\n",
       "      <td>15634602</td>\n",
       "      <td>Hargrave</td>\n",
       "      <td>619</td>\n",
       "      <td>France</td>\n",
       "      <td>Female</td>\n",
       "      <td>42</td>\n",
       "      <td>2.0</td>\n",
       "      <td>0.00</td>\n",
       "      <td>1</td>\n",
       "      <td>1</td>\n",
       "      <td>1</td>\n",
       "      <td>101348.88</td>\n",
       "      <td>1</td>\n",
       "    </tr>\n",
       "    <tr>\n",
       "      <th>1</th>\n",
       "      <td>15647311</td>\n",
       "      <td>Hill</td>\n",
       "      <td>608</td>\n",
       "      <td>Spain</td>\n",
       "      <td>Female</td>\n",
       "      <td>41</td>\n",
       "      <td>1.0</td>\n",
       "      <td>83807.86</td>\n",
       "      <td>1</td>\n",
       "      <td>0</td>\n",
       "      <td>1</td>\n",
       "      <td>112542.58</td>\n",
       "      <td>0</td>\n",
       "    </tr>\n",
       "    <tr>\n",
       "      <th>2</th>\n",
       "      <td>15619304</td>\n",
       "      <td>Onio</td>\n",
       "      <td>502</td>\n",
       "      <td>France</td>\n",
       "      <td>Female</td>\n",
       "      <td>42</td>\n",
       "      <td>8.0</td>\n",
       "      <td>159660.80</td>\n",
       "      <td>3</td>\n",
       "      <td>1</td>\n",
       "      <td>0</td>\n",
       "      <td>113931.57</td>\n",
       "      <td>1</td>\n",
       "    </tr>\n",
       "    <tr>\n",
       "      <th>3</th>\n",
       "      <td>15701354</td>\n",
       "      <td>Boni</td>\n",
       "      <td>699</td>\n",
       "      <td>France</td>\n",
       "      <td>Female</td>\n",
       "      <td>39</td>\n",
       "      <td>1.0</td>\n",
       "      <td>0.00</td>\n",
       "      <td>2</td>\n",
       "      <td>0</td>\n",
       "      <td>0</td>\n",
       "      <td>93826.63</td>\n",
       "      <td>0</td>\n",
       "    </tr>\n",
       "    <tr>\n",
       "      <th>4</th>\n",
       "      <td>15737888</td>\n",
       "      <td>Mitchell</td>\n",
       "      <td>850</td>\n",
       "      <td>Spain</td>\n",
       "      <td>Female</td>\n",
       "      <td>43</td>\n",
       "      <td>2.0</td>\n",
       "      <td>125510.82</td>\n",
       "      <td>1</td>\n",
       "      <td>1</td>\n",
       "      <td>1</td>\n",
       "      <td>79084.10</td>\n",
       "      <td>0</td>\n",
       "    </tr>\n",
       "    <tr>\n",
       "      <th>...</th>\n",
       "      <td>...</td>\n",
       "      <td>...</td>\n",
       "      <td>...</td>\n",
       "      <td>...</td>\n",
       "      <td>...</td>\n",
       "      <td>...</td>\n",
       "      <td>...</td>\n",
       "      <td>...</td>\n",
       "      <td>...</td>\n",
       "      <td>...</td>\n",
       "      <td>...</td>\n",
       "      <td>...</td>\n",
       "      <td>...</td>\n",
       "    </tr>\n",
       "    <tr>\n",
       "      <th>9995</th>\n",
       "      <td>15606229</td>\n",
       "      <td>Obijiaku</td>\n",
       "      <td>771</td>\n",
       "      <td>France</td>\n",
       "      <td>Male</td>\n",
       "      <td>39</td>\n",
       "      <td>5.0</td>\n",
       "      <td>0.00</td>\n",
       "      <td>2</td>\n",
       "      <td>1</td>\n",
       "      <td>0</td>\n",
       "      <td>96270.64</td>\n",
       "      <td>0</td>\n",
       "    </tr>\n",
       "    <tr>\n",
       "      <th>9996</th>\n",
       "      <td>15569892</td>\n",
       "      <td>Johnstone</td>\n",
       "      <td>516</td>\n",
       "      <td>France</td>\n",
       "      <td>Male</td>\n",
       "      <td>35</td>\n",
       "      <td>10.0</td>\n",
       "      <td>57369.61</td>\n",
       "      <td>1</td>\n",
       "      <td>1</td>\n",
       "      <td>1</td>\n",
       "      <td>101699.77</td>\n",
       "      <td>0</td>\n",
       "    </tr>\n",
       "    <tr>\n",
       "      <th>9997</th>\n",
       "      <td>15584532</td>\n",
       "      <td>Liu</td>\n",
       "      <td>709</td>\n",
       "      <td>France</td>\n",
       "      <td>Female</td>\n",
       "      <td>36</td>\n",
       "      <td>7.0</td>\n",
       "      <td>0.00</td>\n",
       "      <td>1</td>\n",
       "      <td>0</td>\n",
       "      <td>1</td>\n",
       "      <td>42085.58</td>\n",
       "      <td>1</td>\n",
       "    </tr>\n",
       "    <tr>\n",
       "      <th>9998</th>\n",
       "      <td>15682355</td>\n",
       "      <td>Sabbatini</td>\n",
       "      <td>772</td>\n",
       "      <td>Germany</td>\n",
       "      <td>Male</td>\n",
       "      <td>42</td>\n",
       "      <td>3.0</td>\n",
       "      <td>75075.31</td>\n",
       "      <td>2</td>\n",
       "      <td>1</td>\n",
       "      <td>0</td>\n",
       "      <td>92888.52</td>\n",
       "      <td>1</td>\n",
       "    </tr>\n",
       "    <tr>\n",
       "      <th>9999</th>\n",
       "      <td>15628319</td>\n",
       "      <td>Walker</td>\n",
       "      <td>792</td>\n",
       "      <td>France</td>\n",
       "      <td>Female</td>\n",
       "      <td>28</td>\n",
       "      <td>NaN</td>\n",
       "      <td>130142.79</td>\n",
       "      <td>1</td>\n",
       "      <td>1</td>\n",
       "      <td>0</td>\n",
       "      <td>38190.78</td>\n",
       "      <td>0</td>\n",
       "    </tr>\n",
       "  </tbody>\n",
       "</table>\n",
       "<p>10000 rows × 13 columns</p>\n",
       "</div>"
      ],
      "text/plain": [
       "      CustomerId    Surname  CreditScore Geography  Gender  Age  Tenure  \\\n",
       "0       15634602   Hargrave          619    France  Female   42     2.0   \n",
       "1       15647311       Hill          608     Spain  Female   41     1.0   \n",
       "2       15619304       Onio          502    France  Female   42     8.0   \n",
       "3       15701354       Boni          699    France  Female   39     1.0   \n",
       "4       15737888   Mitchell          850     Spain  Female   43     2.0   \n",
       "...          ...        ...          ...       ...     ...  ...     ...   \n",
       "9995    15606229   Obijiaku          771    France    Male   39     5.0   \n",
       "9996    15569892  Johnstone          516    France    Male   35    10.0   \n",
       "9997    15584532        Liu          709    France  Female   36     7.0   \n",
       "9998    15682355  Sabbatini          772   Germany    Male   42     3.0   \n",
       "9999    15628319     Walker          792    France  Female   28     NaN   \n",
       "\n",
       "        Balance  NumOfProducts  HasCrCard  IsActiveMember  EstimatedSalary  \\\n",
       "0          0.00              1          1               1        101348.88   \n",
       "1      83807.86              1          0               1        112542.58   \n",
       "2     159660.80              3          1               0        113931.57   \n",
       "3          0.00              2          0               0         93826.63   \n",
       "4     125510.82              1          1               1         79084.10   \n",
       "...         ...            ...        ...             ...              ...   \n",
       "9995       0.00              2          1               0         96270.64   \n",
       "9996   57369.61              1          1               1        101699.77   \n",
       "9997       0.00              1          0               1         42085.58   \n",
       "9998   75075.31              2          1               0         92888.52   \n",
       "9999  130142.79              1          1               0         38190.78   \n",
       "\n",
       "      Exited  \n",
       "0          1  \n",
       "1          0  \n",
       "2          1  \n",
       "3          0  \n",
       "4          0  \n",
       "...      ...  \n",
       "9995       0  \n",
       "9996       0  \n",
       "9997       1  \n",
       "9998       1  \n",
       "9999       0  \n",
       "\n",
       "[10000 rows x 13 columns]"
      ]
     },
     "execution_count": 7,
     "metadata": {},
     "output_type": "execute_result"
    }
   ],
   "source": [
    "#проверим\n",
    "df"
   ]
  },
  {
   "cell_type": "code",
   "execution_count": 8,
   "id": "b660d67f",
   "metadata": {},
   "outputs": [],
   "source": [
    "#обработает столбцы с помощью атрибута columns\n",
    "df.columns = ['customer_id', 'surname','credit_score','geography','gender','age','tenure',\n",
    "              'balance','num_of_products','has_cr_card','is_active_member','estimated_salary','exited']"
   ]
  },
  {
   "cell_type": "code",
   "execution_count": 9,
   "id": "13c4df59",
   "metadata": {},
   "outputs": [
    {
     "data": {
      "text/html": [
       "<div>\n",
       "<style scoped>\n",
       "    .dataframe tbody tr th:only-of-type {\n",
       "        vertical-align: middle;\n",
       "    }\n",
       "\n",
       "    .dataframe tbody tr th {\n",
       "        vertical-align: top;\n",
       "    }\n",
       "\n",
       "    .dataframe thead th {\n",
       "        text-align: right;\n",
       "    }\n",
       "</style>\n",
       "<table border=\"1\" class=\"dataframe\">\n",
       "  <thead>\n",
       "    <tr style=\"text-align: right;\">\n",
       "      <th></th>\n",
       "      <th>customer_id</th>\n",
       "      <th>surname</th>\n",
       "      <th>credit_score</th>\n",
       "      <th>geography</th>\n",
       "      <th>gender</th>\n",
       "      <th>age</th>\n",
       "      <th>tenure</th>\n",
       "      <th>balance</th>\n",
       "      <th>num_of_products</th>\n",
       "      <th>has_cr_card</th>\n",
       "      <th>is_active_member</th>\n",
       "      <th>estimated_salary</th>\n",
       "      <th>exited</th>\n",
       "    </tr>\n",
       "  </thead>\n",
       "  <tbody>\n",
       "    <tr>\n",
       "      <th>0</th>\n",
       "      <td>15634602</td>\n",
       "      <td>Hargrave</td>\n",
       "      <td>619</td>\n",
       "      <td>France</td>\n",
       "      <td>Female</td>\n",
       "      <td>42</td>\n",
       "      <td>2.0</td>\n",
       "      <td>0.00</td>\n",
       "      <td>1</td>\n",
       "      <td>1</td>\n",
       "      <td>1</td>\n",
       "      <td>101348.88</td>\n",
       "      <td>1</td>\n",
       "    </tr>\n",
       "    <tr>\n",
       "      <th>1</th>\n",
       "      <td>15647311</td>\n",
       "      <td>Hill</td>\n",
       "      <td>608</td>\n",
       "      <td>Spain</td>\n",
       "      <td>Female</td>\n",
       "      <td>41</td>\n",
       "      <td>1.0</td>\n",
       "      <td>83807.86</td>\n",
       "      <td>1</td>\n",
       "      <td>0</td>\n",
       "      <td>1</td>\n",
       "      <td>112542.58</td>\n",
       "      <td>0</td>\n",
       "    </tr>\n",
       "    <tr>\n",
       "      <th>2</th>\n",
       "      <td>15619304</td>\n",
       "      <td>Onio</td>\n",
       "      <td>502</td>\n",
       "      <td>France</td>\n",
       "      <td>Female</td>\n",
       "      <td>42</td>\n",
       "      <td>8.0</td>\n",
       "      <td>159660.80</td>\n",
       "      <td>3</td>\n",
       "      <td>1</td>\n",
       "      <td>0</td>\n",
       "      <td>113931.57</td>\n",
       "      <td>1</td>\n",
       "    </tr>\n",
       "    <tr>\n",
       "      <th>3</th>\n",
       "      <td>15701354</td>\n",
       "      <td>Boni</td>\n",
       "      <td>699</td>\n",
       "      <td>France</td>\n",
       "      <td>Female</td>\n",
       "      <td>39</td>\n",
       "      <td>1.0</td>\n",
       "      <td>0.00</td>\n",
       "      <td>2</td>\n",
       "      <td>0</td>\n",
       "      <td>0</td>\n",
       "      <td>93826.63</td>\n",
       "      <td>0</td>\n",
       "    </tr>\n",
       "    <tr>\n",
       "      <th>4</th>\n",
       "      <td>15737888</td>\n",
       "      <td>Mitchell</td>\n",
       "      <td>850</td>\n",
       "      <td>Spain</td>\n",
       "      <td>Female</td>\n",
       "      <td>43</td>\n",
       "      <td>2.0</td>\n",
       "      <td>125510.82</td>\n",
       "      <td>1</td>\n",
       "      <td>1</td>\n",
       "      <td>1</td>\n",
       "      <td>79084.10</td>\n",
       "      <td>0</td>\n",
       "    </tr>\n",
       "    <tr>\n",
       "      <th>...</th>\n",
       "      <td>...</td>\n",
       "      <td>...</td>\n",
       "      <td>...</td>\n",
       "      <td>...</td>\n",
       "      <td>...</td>\n",
       "      <td>...</td>\n",
       "      <td>...</td>\n",
       "      <td>...</td>\n",
       "      <td>...</td>\n",
       "      <td>...</td>\n",
       "      <td>...</td>\n",
       "      <td>...</td>\n",
       "      <td>...</td>\n",
       "    </tr>\n",
       "    <tr>\n",
       "      <th>9995</th>\n",
       "      <td>15606229</td>\n",
       "      <td>Obijiaku</td>\n",
       "      <td>771</td>\n",
       "      <td>France</td>\n",
       "      <td>Male</td>\n",
       "      <td>39</td>\n",
       "      <td>5.0</td>\n",
       "      <td>0.00</td>\n",
       "      <td>2</td>\n",
       "      <td>1</td>\n",
       "      <td>0</td>\n",
       "      <td>96270.64</td>\n",
       "      <td>0</td>\n",
       "    </tr>\n",
       "    <tr>\n",
       "      <th>9996</th>\n",
       "      <td>15569892</td>\n",
       "      <td>Johnstone</td>\n",
       "      <td>516</td>\n",
       "      <td>France</td>\n",
       "      <td>Male</td>\n",
       "      <td>35</td>\n",
       "      <td>10.0</td>\n",
       "      <td>57369.61</td>\n",
       "      <td>1</td>\n",
       "      <td>1</td>\n",
       "      <td>1</td>\n",
       "      <td>101699.77</td>\n",
       "      <td>0</td>\n",
       "    </tr>\n",
       "    <tr>\n",
       "      <th>9997</th>\n",
       "      <td>15584532</td>\n",
       "      <td>Liu</td>\n",
       "      <td>709</td>\n",
       "      <td>France</td>\n",
       "      <td>Female</td>\n",
       "      <td>36</td>\n",
       "      <td>7.0</td>\n",
       "      <td>0.00</td>\n",
       "      <td>1</td>\n",
       "      <td>0</td>\n",
       "      <td>1</td>\n",
       "      <td>42085.58</td>\n",
       "      <td>1</td>\n",
       "    </tr>\n",
       "    <tr>\n",
       "      <th>9998</th>\n",
       "      <td>15682355</td>\n",
       "      <td>Sabbatini</td>\n",
       "      <td>772</td>\n",
       "      <td>Germany</td>\n",
       "      <td>Male</td>\n",
       "      <td>42</td>\n",
       "      <td>3.0</td>\n",
       "      <td>75075.31</td>\n",
       "      <td>2</td>\n",
       "      <td>1</td>\n",
       "      <td>0</td>\n",
       "      <td>92888.52</td>\n",
       "      <td>1</td>\n",
       "    </tr>\n",
       "    <tr>\n",
       "      <th>9999</th>\n",
       "      <td>15628319</td>\n",
       "      <td>Walker</td>\n",
       "      <td>792</td>\n",
       "      <td>France</td>\n",
       "      <td>Female</td>\n",
       "      <td>28</td>\n",
       "      <td>NaN</td>\n",
       "      <td>130142.79</td>\n",
       "      <td>1</td>\n",
       "      <td>1</td>\n",
       "      <td>0</td>\n",
       "      <td>38190.78</td>\n",
       "      <td>0</td>\n",
       "    </tr>\n",
       "  </tbody>\n",
       "</table>\n",
       "<p>10000 rows × 13 columns</p>\n",
       "</div>"
      ],
      "text/plain": [
       "      customer_id    surname  credit_score geography  gender  age  tenure  \\\n",
       "0        15634602   Hargrave           619    France  Female   42     2.0   \n",
       "1        15647311       Hill           608     Spain  Female   41     1.0   \n",
       "2        15619304       Onio           502    France  Female   42     8.0   \n",
       "3        15701354       Boni           699    France  Female   39     1.0   \n",
       "4        15737888   Mitchell           850     Spain  Female   43     2.0   \n",
       "...           ...        ...           ...       ...     ...  ...     ...   \n",
       "9995     15606229   Obijiaku           771    France    Male   39     5.0   \n",
       "9996     15569892  Johnstone           516    France    Male   35    10.0   \n",
       "9997     15584532        Liu           709    France  Female   36     7.0   \n",
       "9998     15682355  Sabbatini           772   Germany    Male   42     3.0   \n",
       "9999     15628319     Walker           792    France  Female   28     NaN   \n",
       "\n",
       "        balance  num_of_products  has_cr_card  is_active_member  \\\n",
       "0          0.00                1            1                 1   \n",
       "1      83807.86                1            0                 1   \n",
       "2     159660.80                3            1                 0   \n",
       "3          0.00                2            0                 0   \n",
       "4     125510.82                1            1                 1   \n",
       "...         ...              ...          ...               ...   \n",
       "9995       0.00                2            1                 0   \n",
       "9996   57369.61                1            1                 1   \n",
       "9997       0.00                1            0                 1   \n",
       "9998   75075.31                2            1                 0   \n",
       "9999  130142.79                1            1                 0   \n",
       "\n",
       "      estimated_salary  exited  \n",
       "0            101348.88       1  \n",
       "1            112542.58       0  \n",
       "2            113931.57       1  \n",
       "3             93826.63       0  \n",
       "4             79084.10       0  \n",
       "...                ...     ...  \n",
       "9995          96270.64       0  \n",
       "9996         101699.77       0  \n",
       "9997          42085.58       1  \n",
       "9998          92888.52       1  \n",
       "9999          38190.78       0  \n",
       "\n",
       "[10000 rows x 13 columns]"
      ]
     },
     "execution_count": 9,
     "metadata": {},
     "output_type": "execute_result"
    }
   ],
   "source": [
    "#проверим\n",
    "df"
   ]
  },
  {
   "cell_type": "code",
   "execution_count": 10,
   "id": "a42ceb28",
   "metadata": {},
   "outputs": [
    {
     "data": {
      "text/plain": [
       "customer_id           0\n",
       "surname               0\n",
       "credit_score          0\n",
       "geography             0\n",
       "gender                0\n",
       "age                   0\n",
       "tenure              909\n",
       "balance               0\n",
       "num_of_products       0\n",
       "has_cr_card           0\n",
       "is_active_member      0\n",
       "estimated_salary      0\n",
       "exited                0\n",
       "dtype: int64"
      ]
     },
     "execution_count": 10,
     "metadata": {},
     "output_type": "execute_result"
    }
   ],
   "source": [
    "#посчитаем пропущенные значения\n",
    "df.isna().sum()"
   ]
  },
  {
   "cell_type": "markdown",
   "id": "ea71043b",
   "metadata": {},
   "source": [
    "- В столбце tenure(сколько лет человек является клиентом банка) 9% процентов пропущенных значений"
   ]
  },
  {
   "cell_type": "code",
   "execution_count": 11,
   "id": "862fb8f9",
   "metadata": {},
   "outputs": [
    {
     "data": {
      "text/plain": [
       "(4.997690023099769, 5.0)"
      ]
     },
     "execution_count": 11,
     "metadata": {},
     "output_type": "execute_result"
    }
   ],
   "source": [
    "df['tenure'].mean(), df['tenure'].median()"
   ]
  },
  {
   "cell_type": "code",
   "execution_count": 12,
   "id": "56c76240",
   "metadata": {},
   "outputs": [],
   "source": [
    "#заменим пропущенное значение на среднее\n",
    "df['tenure'] = df['tenure'].fillna(df['tenure'].mean())"
   ]
  },
  {
   "cell_type": "code",
   "execution_count": 13,
   "id": "d1d9bca8",
   "metadata": {},
   "outputs": [
    {
     "data": {
      "text/plain": [
       "customer_id         0\n",
       "surname             0\n",
       "credit_score        0\n",
       "geography           0\n",
       "gender              0\n",
       "age                 0\n",
       "tenure              0\n",
       "balance             0\n",
       "num_of_products     0\n",
       "has_cr_card         0\n",
       "is_active_member    0\n",
       "estimated_salary    0\n",
       "exited              0\n",
       "dtype: int64"
      ]
     },
     "execution_count": 13,
     "metadata": {},
     "output_type": "execute_result"
    }
   ],
   "source": [
    "#проверим\n",
    "df.isna().sum()"
   ]
  },
  {
   "cell_type": "code",
   "execution_count": 14,
   "id": "f42ebbf6",
   "metadata": {},
   "outputs": [
    {
     "data": {
      "text/html": [
       "<div>\n",
       "<style scoped>\n",
       "    .dataframe tbody tr th:only-of-type {\n",
       "        vertical-align: middle;\n",
       "    }\n",
       "\n",
       "    .dataframe tbody tr th {\n",
       "        vertical-align: top;\n",
       "    }\n",
       "\n",
       "    .dataframe thead th {\n",
       "        text-align: right;\n",
       "    }\n",
       "</style>\n",
       "<table border=\"1\" class=\"dataframe\">\n",
       "  <thead>\n",
       "    <tr style=\"text-align: right;\">\n",
       "      <th></th>\n",
       "      <th>customer_id</th>\n",
       "      <th>credit_score</th>\n",
       "      <th>age</th>\n",
       "      <th>tenure</th>\n",
       "      <th>balance</th>\n",
       "      <th>num_of_products</th>\n",
       "      <th>has_cr_card</th>\n",
       "      <th>is_active_member</th>\n",
       "      <th>estimated_salary</th>\n",
       "      <th>exited</th>\n",
       "    </tr>\n",
       "  </thead>\n",
       "  <tbody>\n",
       "    <tr>\n",
       "      <th>count</th>\n",
       "      <td>1.000000e+04</td>\n",
       "      <td>10000.000000</td>\n",
       "      <td>10000.000000</td>\n",
       "      <td>10000.00000</td>\n",
       "      <td>10000.000000</td>\n",
       "      <td>10000.000000</td>\n",
       "      <td>10000.00000</td>\n",
       "      <td>10000.000000</td>\n",
       "      <td>10000.000000</td>\n",
       "      <td>10000.000000</td>\n",
       "    </tr>\n",
       "    <tr>\n",
       "      <th>mean</th>\n",
       "      <td>1.569094e+07</td>\n",
       "      <td>650.528800</td>\n",
       "      <td>38.921800</td>\n",
       "      <td>4.99769</td>\n",
       "      <td>76485.889288</td>\n",
       "      <td>1.530200</td>\n",
       "      <td>0.70550</td>\n",
       "      <td>0.515100</td>\n",
       "      <td>100090.239881</td>\n",
       "      <td>0.203700</td>\n",
       "    </tr>\n",
       "    <tr>\n",
       "      <th>std</th>\n",
       "      <td>7.193619e+04</td>\n",
       "      <td>96.653299</td>\n",
       "      <td>10.487806</td>\n",
       "      <td>2.76001</td>\n",
       "      <td>62397.405202</td>\n",
       "      <td>0.581654</td>\n",
       "      <td>0.45584</td>\n",
       "      <td>0.499797</td>\n",
       "      <td>57510.492818</td>\n",
       "      <td>0.402769</td>\n",
       "    </tr>\n",
       "    <tr>\n",
       "      <th>min</th>\n",
       "      <td>1.556570e+07</td>\n",
       "      <td>350.000000</td>\n",
       "      <td>18.000000</td>\n",
       "      <td>0.00000</td>\n",
       "      <td>0.000000</td>\n",
       "      <td>1.000000</td>\n",
       "      <td>0.00000</td>\n",
       "      <td>0.000000</td>\n",
       "      <td>11.580000</td>\n",
       "      <td>0.000000</td>\n",
       "    </tr>\n",
       "    <tr>\n",
       "      <th>25%</th>\n",
       "      <td>1.562853e+07</td>\n",
       "      <td>584.000000</td>\n",
       "      <td>32.000000</td>\n",
       "      <td>3.00000</td>\n",
       "      <td>0.000000</td>\n",
       "      <td>1.000000</td>\n",
       "      <td>0.00000</td>\n",
       "      <td>0.000000</td>\n",
       "      <td>51002.110000</td>\n",
       "      <td>0.000000</td>\n",
       "    </tr>\n",
       "    <tr>\n",
       "      <th>50%</th>\n",
       "      <td>1.569074e+07</td>\n",
       "      <td>652.000000</td>\n",
       "      <td>37.000000</td>\n",
       "      <td>4.99769</td>\n",
       "      <td>97198.540000</td>\n",
       "      <td>1.000000</td>\n",
       "      <td>1.00000</td>\n",
       "      <td>1.000000</td>\n",
       "      <td>100193.915000</td>\n",
       "      <td>0.000000</td>\n",
       "    </tr>\n",
       "    <tr>\n",
       "      <th>75%</th>\n",
       "      <td>1.575323e+07</td>\n",
       "      <td>718.000000</td>\n",
       "      <td>44.000000</td>\n",
       "      <td>7.00000</td>\n",
       "      <td>127644.240000</td>\n",
       "      <td>2.000000</td>\n",
       "      <td>1.00000</td>\n",
       "      <td>1.000000</td>\n",
       "      <td>149388.247500</td>\n",
       "      <td>0.000000</td>\n",
       "    </tr>\n",
       "    <tr>\n",
       "      <th>max</th>\n",
       "      <td>1.581569e+07</td>\n",
       "      <td>850.000000</td>\n",
       "      <td>92.000000</td>\n",
       "      <td>10.00000</td>\n",
       "      <td>250898.090000</td>\n",
       "      <td>4.000000</td>\n",
       "      <td>1.00000</td>\n",
       "      <td>1.000000</td>\n",
       "      <td>199992.480000</td>\n",
       "      <td>1.000000</td>\n",
       "    </tr>\n",
       "  </tbody>\n",
       "</table>\n",
       "</div>"
      ],
      "text/plain": [
       "        customer_id  credit_score           age       tenure        balance  \\\n",
       "count  1.000000e+04  10000.000000  10000.000000  10000.00000   10000.000000   \n",
       "mean   1.569094e+07    650.528800     38.921800      4.99769   76485.889288   \n",
       "std    7.193619e+04     96.653299     10.487806      2.76001   62397.405202   \n",
       "min    1.556570e+07    350.000000     18.000000      0.00000       0.000000   \n",
       "25%    1.562853e+07    584.000000     32.000000      3.00000       0.000000   \n",
       "50%    1.569074e+07    652.000000     37.000000      4.99769   97198.540000   \n",
       "75%    1.575323e+07    718.000000     44.000000      7.00000  127644.240000   \n",
       "max    1.581569e+07    850.000000     92.000000     10.00000  250898.090000   \n",
       "\n",
       "       num_of_products  has_cr_card  is_active_member  estimated_salary  \\\n",
       "count     10000.000000  10000.00000      10000.000000      10000.000000   \n",
       "mean          1.530200      0.70550          0.515100     100090.239881   \n",
       "std           0.581654      0.45584          0.499797      57510.492818   \n",
       "min           1.000000      0.00000          0.000000         11.580000   \n",
       "25%           1.000000      0.00000          0.000000      51002.110000   \n",
       "50%           1.000000      1.00000          1.000000     100193.915000   \n",
       "75%           2.000000      1.00000          1.000000     149388.247500   \n",
       "max           4.000000      1.00000          1.000000     199992.480000   \n",
       "\n",
       "             exited  \n",
       "count  10000.000000  \n",
       "mean       0.203700  \n",
       "std        0.402769  \n",
       "min        0.000000  \n",
       "25%        0.000000  \n",
       "50%        0.000000  \n",
       "75%        0.000000  \n",
       "max        1.000000  "
      ]
     },
     "execution_count": 14,
     "metadata": {},
     "output_type": "execute_result"
    }
   ],
   "source": [
    "#посмотрим описательную статистику\n",
    "df.describe()"
   ]
  },
  {
   "cell_type": "code",
   "execution_count": 15,
   "id": "c6a0338e",
   "metadata": {},
   "outputs": [],
   "source": [
    "#так же предлагаю столбец customer_id удалить так как этот признак не несет смысла для модели\n",
    "df.drop(labels ='customer_id',axis = 1,inplace=True)"
   ]
  },
  {
   "cell_type": "code",
   "execution_count": 16,
   "id": "512a4c6b",
   "metadata": {},
   "outputs": [
    {
     "data": {
      "text/html": [
       "<div>\n",
       "<style scoped>\n",
       "    .dataframe tbody tr th:only-of-type {\n",
       "        vertical-align: middle;\n",
       "    }\n",
       "\n",
       "    .dataframe tbody tr th {\n",
       "        vertical-align: top;\n",
       "    }\n",
       "\n",
       "    .dataframe thead th {\n",
       "        text-align: right;\n",
       "    }\n",
       "</style>\n",
       "<table border=\"1\" class=\"dataframe\">\n",
       "  <thead>\n",
       "    <tr style=\"text-align: right;\">\n",
       "      <th></th>\n",
       "      <th>surname</th>\n",
       "      <th>credit_score</th>\n",
       "      <th>geography</th>\n",
       "      <th>gender</th>\n",
       "      <th>age</th>\n",
       "      <th>tenure</th>\n",
       "      <th>balance</th>\n",
       "      <th>num_of_products</th>\n",
       "      <th>has_cr_card</th>\n",
       "      <th>is_active_member</th>\n",
       "      <th>estimated_salary</th>\n",
       "      <th>exited</th>\n",
       "    </tr>\n",
       "  </thead>\n",
       "  <tbody>\n",
       "    <tr>\n",
       "      <th>0</th>\n",
       "      <td>Hargrave</td>\n",
       "      <td>619</td>\n",
       "      <td>France</td>\n",
       "      <td>Female</td>\n",
       "      <td>42</td>\n",
       "      <td>2.0</td>\n",
       "      <td>0.00</td>\n",
       "      <td>1</td>\n",
       "      <td>1</td>\n",
       "      <td>1</td>\n",
       "      <td>101348.88</td>\n",
       "      <td>1</td>\n",
       "    </tr>\n",
       "    <tr>\n",
       "      <th>1</th>\n",
       "      <td>Hill</td>\n",
       "      <td>608</td>\n",
       "      <td>Spain</td>\n",
       "      <td>Female</td>\n",
       "      <td>41</td>\n",
       "      <td>1.0</td>\n",
       "      <td>83807.86</td>\n",
       "      <td>1</td>\n",
       "      <td>0</td>\n",
       "      <td>1</td>\n",
       "      <td>112542.58</td>\n",
       "      <td>0</td>\n",
       "    </tr>\n",
       "    <tr>\n",
       "      <th>2</th>\n",
       "      <td>Onio</td>\n",
       "      <td>502</td>\n",
       "      <td>France</td>\n",
       "      <td>Female</td>\n",
       "      <td>42</td>\n",
       "      <td>8.0</td>\n",
       "      <td>159660.80</td>\n",
       "      <td>3</td>\n",
       "      <td>1</td>\n",
       "      <td>0</td>\n",
       "      <td>113931.57</td>\n",
       "      <td>1</td>\n",
       "    </tr>\n",
       "    <tr>\n",
       "      <th>3</th>\n",
       "      <td>Boni</td>\n",
       "      <td>699</td>\n",
       "      <td>France</td>\n",
       "      <td>Female</td>\n",
       "      <td>39</td>\n",
       "      <td>1.0</td>\n",
       "      <td>0.00</td>\n",
       "      <td>2</td>\n",
       "      <td>0</td>\n",
       "      <td>0</td>\n",
       "      <td>93826.63</td>\n",
       "      <td>0</td>\n",
       "    </tr>\n",
       "    <tr>\n",
       "      <th>4</th>\n",
       "      <td>Mitchell</td>\n",
       "      <td>850</td>\n",
       "      <td>Spain</td>\n",
       "      <td>Female</td>\n",
       "      <td>43</td>\n",
       "      <td>2.0</td>\n",
       "      <td>125510.82</td>\n",
       "      <td>1</td>\n",
       "      <td>1</td>\n",
       "      <td>1</td>\n",
       "      <td>79084.10</td>\n",
       "      <td>0</td>\n",
       "    </tr>\n",
       "  </tbody>\n",
       "</table>\n",
       "</div>"
      ],
      "text/plain": [
       "    surname  credit_score geography  gender  age  tenure    balance  \\\n",
       "0  Hargrave           619    France  Female   42     2.0       0.00   \n",
       "1      Hill           608     Spain  Female   41     1.0   83807.86   \n",
       "2      Onio           502    France  Female   42     8.0  159660.80   \n",
       "3      Boni           699    France  Female   39     1.0       0.00   \n",
       "4  Mitchell           850     Spain  Female   43     2.0  125510.82   \n",
       "\n",
       "   num_of_products  has_cr_card  is_active_member  estimated_salary  exited  \n",
       "0                1            1                 1         101348.88       1  \n",
       "1                1            0                 1         112542.58       0  \n",
       "2                3            1                 0         113931.57       1  \n",
       "3                2            0                 0          93826.63       0  \n",
       "4                1            1                 1          79084.10       0  "
      ]
     },
     "execution_count": 16,
     "metadata": {},
     "output_type": "execute_result"
    }
   ],
   "source": [
    "#проверим\n",
    "df.head()"
   ]
  },
  {
   "cell_type": "code",
   "execution_count": 17,
   "id": "6a733ab7",
   "metadata": {},
   "outputs": [
    {
     "data": {
      "text/plain": [
       "0"
      ]
     },
     "execution_count": 17,
     "metadata": {},
     "output_type": "execute_result"
    }
   ],
   "source": [
    "#посчитаем дубликаты\n",
    "df.duplicated().sum()"
   ]
  },
  {
   "cell_type": "code",
   "execution_count": 18,
   "id": "27df3ed1",
   "metadata": {},
   "outputs": [
    {
     "data": {
      "text/plain": [
       "9953             Burke\n",
       "3850        Stephenson\n",
       "4962            Gordon\n",
       "3886              Tien\n",
       "5437          Gonzalez\n",
       "8517          Robinson\n",
       "2041               Yeh\n",
       "1989           Zaitsev\n",
       "1933             Bogle\n",
       "9984    Echezonachukwu\n",
       "Name: surname, dtype: object"
      ]
     },
     "execution_count": 18,
     "metadata": {},
     "output_type": "execute_result"
    }
   ],
   "source": [
    "#посмотрим 10 случайных фамилий\n",
    "df['surname'].sample(n=10,random_state=1)"
   ]
  },
  {
   "cell_type": "code",
   "execution_count": 19,
   "id": "8caafde2",
   "metadata": {},
   "outputs": [
    {
     "data": {
      "text/plain": [
       "<AxesSubplot:>"
      ]
     },
     "execution_count": 19,
     "metadata": {},
     "output_type": "execute_result"
    },
    {
     "data": {
      "image/png": "[encoded data removed]",
      "text/plain": [
       "<Figure size 432x288 with 1 Axes>"
      ]
     },
     "metadata": {
      "needs_background": "light"
     },
     "output_type": "display_data"
    }
   ],
   "source": [
    "#посмотрим место проживания\n",
    "df['geography'].value_counts().plot(kind='bar')"
   ]
  },
  {
   "cell_type": "code",
   "execution_count": 20,
   "id": "584c265a",
   "metadata": {},
   "outputs": [
    {
     "data": {
      "text/plain": [
       "<AxesSubplot:>"
      ]
     },
     "execution_count": 20,
     "metadata": {},
     "output_type": "execute_result"
    },
    {
     "data": {
      "image/png": "[encoded data removed]",
      "text/plain": [
       "<Figure size 432x288 with 1 Axes>"
      ]
     },
     "metadata": {
      "needs_background": "light"
     },
     "output_type": "display_data"
    }
   ],
   "source": [
    "#посмотрим пол\n",
    "df['gender'].value_counts().plot(kind='bar')"
   ]
  },
  {
   "cell_type": "code",
   "execution_count": 21,
   "id": "b5d60d2e",
   "metadata": {},
   "outputs": [
    {
     "data": {
      "text/plain": [
       "<AxesSubplot:>"
      ]
     },
     "execution_count": 21,
     "metadata": {},
     "output_type": "execute_result"
    },
    {
     "data": {
      "image/png": "[encoded data removed]",
      "text/plain": [
       "<Figure size 432x288 with 1 Axes>"
      ]
     },
     "metadata": {
      "needs_background": "light"
     },
     "output_type": "display_data"
    }
   ],
   "source": [
    "#посмотрим целевой признак\n",
    "df['exited'].value_counts(normalize=True).plot(kind='bar')"
   ]
  },
  {
   "cell_type": "markdown",
   "id": "3e69d65d",
   "metadata": {},
   "source": [
    "**Вывод:**\n",
    "- Мы познакомились с таблицей, удалили дублер индекса, поправили названия колонок, так же узнали что в нашей таблицы больше мужчин чем женщин,  по кол-ву клиентов Франция на первом месте\n",
    "- Так же узнали что у целевого признака присутствует дисбаланс классов отрицательных больше чем положительных"
   ]
  },
  {
   "cell_type": "markdown",
   "id": "090b45fc",
   "metadata": {},
   "source": [
    "## Исследование задачи\n",
    "**Цель:** Изучить модели без учёта дисбаланса "
   ]
  },
  {
   "cell_type": "code",
   "execution_count": 22,
   "id": "76dbad46",
   "metadata": {},
   "outputs": [],
   "source": [
    "#удалим столбец surname так как этот признак не несет смысла для модели\n",
    "df.drop(labels ='surname',axis = 1,inplace=True)"
   ]
  },
  {
   "cell_type": "code",
   "execution_count": 23,
   "id": "6378557e",
   "metadata": {},
   "outputs": [],
   "source": [
    "#с помощью техники прямого кодирования преобразуем все категориальные значения в численные\n",
    "#drop_first удаляет первую колонку, которая создается для первого уникального значения столбца\n",
    "data = pd.get_dummies(df, drop_first=True)"
   ]
  },
  {
   "cell_type": "code",
   "execution_count": 24,
   "id": "c762c14b",
   "metadata": {},
   "outputs": [],
   "source": [
    "#создадим отдельно все признаки и отдельно целевой\n",
    "features = data.drop(labels='exited',axis=1)\n",
    "#целевой признак\n",
    "target = df['exited']"
   ]
  },
  {
   "cell_type": "code",
   "execution_count": 25,
   "id": "a3004078",
   "metadata": {},
   "outputs": [
    {
     "data": {
      "text/html": [
       "<div>\n",
       "<style scoped>\n",
       "    .dataframe tbody tr th:only-of-type {\n",
       "        vertical-align: middle;\n",
       "    }\n",
       "\n",
       "    .dataframe tbody tr th {\n",
       "        vertical-align: top;\n",
       "    }\n",
       "\n",
       "    .dataframe thead th {\n",
       "        text-align: right;\n",
       "    }\n",
       "</style>\n",
       "<table border=\"1\" class=\"dataframe\">\n",
       "  <thead>\n",
       "    <tr style=\"text-align: right;\">\n",
       "      <th></th>\n",
       "      <th>credit_score</th>\n",
       "      <th>age</th>\n",
       "      <th>tenure</th>\n",
       "      <th>balance</th>\n",
       "      <th>num_of_products</th>\n",
       "      <th>has_cr_card</th>\n",
       "      <th>is_active_member</th>\n",
       "      <th>estimated_salary</th>\n",
       "      <th>geography_Germany</th>\n",
       "      <th>geography_Spain</th>\n",
       "      <th>gender_Male</th>\n",
       "    </tr>\n",
       "  </thead>\n",
       "  <tbody>\n",
       "    <tr>\n",
       "      <th>0</th>\n",
       "      <td>619</td>\n",
       "      <td>42</td>\n",
       "      <td>2.0</td>\n",
       "      <td>0.00</td>\n",
       "      <td>1</td>\n",
       "      <td>1</td>\n",
       "      <td>1</td>\n",
       "      <td>101348.88</td>\n",
       "      <td>0</td>\n",
       "      <td>0</td>\n",
       "      <td>0</td>\n",
       "    </tr>\n",
       "    <tr>\n",
       "      <th>1</th>\n",
       "      <td>608</td>\n",
       "      <td>41</td>\n",
       "      <td>1.0</td>\n",
       "      <td>83807.86</td>\n",
       "      <td>1</td>\n",
       "      <td>0</td>\n",
       "      <td>1</td>\n",
       "      <td>112542.58</td>\n",
       "      <td>0</td>\n",
       "      <td>1</td>\n",
       "      <td>0</td>\n",
       "    </tr>\n",
       "    <tr>\n",
       "      <th>2</th>\n",
       "      <td>502</td>\n",
       "      <td>42</td>\n",
       "      <td>8.0</td>\n",
       "      <td>159660.80</td>\n",
       "      <td>3</td>\n",
       "      <td>1</td>\n",
       "      <td>0</td>\n",
       "      <td>113931.57</td>\n",
       "      <td>0</td>\n",
       "      <td>0</td>\n",
       "      <td>0</td>\n",
       "    </tr>\n",
       "    <tr>\n",
       "      <th>3</th>\n",
       "      <td>699</td>\n",
       "      <td>39</td>\n",
       "      <td>1.0</td>\n",
       "      <td>0.00</td>\n",
       "      <td>2</td>\n",
       "      <td>0</td>\n",
       "      <td>0</td>\n",
       "      <td>93826.63</td>\n",
       "      <td>0</td>\n",
       "      <td>0</td>\n",
       "      <td>0</td>\n",
       "    </tr>\n",
       "    <tr>\n",
       "      <th>4</th>\n",
       "      <td>850</td>\n",
       "      <td>43</td>\n",
       "      <td>2.0</td>\n",
       "      <td>125510.82</td>\n",
       "      <td>1</td>\n",
       "      <td>1</td>\n",
       "      <td>1</td>\n",
       "      <td>79084.10</td>\n",
       "      <td>0</td>\n",
       "      <td>1</td>\n",
       "      <td>0</td>\n",
       "    </tr>\n",
       "  </tbody>\n",
       "</table>\n",
       "</div>"
      ],
      "text/plain": [
       "   credit_score  age  tenure    balance  num_of_products  has_cr_card  \\\n",
       "0           619   42     2.0       0.00                1            1   \n",
       "1           608   41     1.0   83807.86                1            0   \n",
       "2           502   42     8.0  159660.80                3            1   \n",
       "3           699   39     1.0       0.00                2            0   \n",
       "4           850   43     2.0  125510.82                1            1   \n",
       "\n",
       "   is_active_member  estimated_salary  geography_Germany  geography_Spain  \\\n",
       "0                 1         101348.88                  0                0   \n",
       "1                 1         112542.58                  0                1   \n",
       "2                 0         113931.57                  0                0   \n",
       "3                 0          93826.63                  0                0   \n",
       "4                 1          79084.10                  0                1   \n",
       "\n",
       "   gender_Male  \n",
       "0            0  \n",
       "1            0  \n",
       "2            0  \n",
       "3            0  \n",
       "4            0  "
      ]
     },
     "execution_count": 25,
     "metadata": {},
     "output_type": "execute_result"
    }
   ],
   "source": [
    "#проверим\n",
    "features.head()"
   ]
  },
  {
   "cell_type": "code",
   "execution_count": 26,
   "id": "158d916c",
   "metadata": {},
   "outputs": [
    {
     "data": {
      "text/plain": [
       "0    1\n",
       "1    0\n",
       "2    1\n",
       "3    0\n",
       "4    0\n",
       "Name: exited, dtype: int64"
      ]
     },
     "execution_count": 26,
     "metadata": {},
     "output_type": "execute_result"
    }
   ],
   "source": [
    "#проверим\n",
    "target.head()"
   ]
  },
  {
   "cell_type": "code",
   "execution_count": 27,
   "id": "5d9bc38b",
   "metadata": {},
   "outputs": [],
   "source": [
    "#разделим выборку на обучающую и тестовую 70:30\n",
    "X_train, X_test, y_train, y_test = train_test_split(features,target, test_size=0.3, random_state=1)"
   ]
  },
  {
   "cell_type": "code",
   "execution_count": 28,
   "id": "9f20f938",
   "metadata": {},
   "outputs": [
    {
     "name": "stdout",
     "output_type": "stream",
     "text": [
      "Размер обучающей:  (7000, 11) (7000,)\n",
      "Размер тестовой:  (3000, 11) (3000,)\n"
     ]
    }
   ],
   "source": [
    "print('Размер обучающей: ',X_train.shape,y_train.shape)\n",
    "print('Размер тестовой: ',X_test.shape,y_test.shape)"
   ]
  },
  {
   "cell_type": "markdown",
   "id": "ea02a197",
   "metadata": {},
   "source": [
    "### RandomForestClassifier"
   ]
  },
  {
   "cell_type": "code",
   "execution_count": 29,
   "id": "5b7f4d2f",
   "metadata": {},
   "outputs": [
    {
     "data": {
      "text/plain": [
       "RandomForestClassifier(max_depth=6, n_estimators=20, random_state=1)"
      ]
     },
     "execution_count": 29,
     "metadata": {},
     "output_type": "execute_result"
    }
   ],
   "source": [
    "#посмотри какие признаки важны для модели\n",
    "model = RandomForestClassifier(random_state=1, max_depth=6,n_estimators=20)\n",
    "model.fit(X_train, y_train)"
   ]
  },
  {
   "cell_type": "code",
   "execution_count": 30,
   "id": "92e123d6",
   "metadata": {},
   "outputs": [
    {
     "data": {
      "text/plain": [
       "<AxesSubplot:xlabel='gini_coef'>"
      ]
     },
     "execution_count": 30,
     "metadata": {},
     "output_type": "execute_result"
    },
    {
     "data": {
      "image/png": "[encoded data removed]",
      "text/plain": [
       "<Figure size 432x288 with 1 Axes>"
      ]
     },
     "metadata": {
      "needs_background": "light"
     },
     "output_type": "display_data"
    }
   ],
   "source": [
    "#посмотрим важность признаков\n",
    "feats = {}\n",
    "for feature,importace in zip(features,model.feature_importances_):\n",
    "    feats[feature] = importace\n",
    "    data = pd.DataFrame.from_dict(feats, orient='index').rename(columns={0: 'gini_coef'}).sort_values(by='gini_coef')\n",
    "#построим диаграмму\n",
    "sns.barplot(data=data,x='gini_coef',y=data.index)"
   ]
  },
  {
   "cell_type": "code",
   "execution_count": 31,
   "id": "20604547",
   "metadata": {},
   "outputs": [
    {
     "data": {
      "text/plain": [
       "{'bootstrap': True,\n",
       " 'ccp_alpha': 0.0,\n",
       " 'class_weight': None,\n",
       " 'criterion': 'gini',\n",
       " 'max_depth': 6,\n",
       " 'max_features': 'auto',\n",
       " 'max_leaf_nodes': None,\n",
       " 'max_samples': None,\n",
       " 'min_impurity_decrease': 0.0,\n",
       " 'min_samples_leaf': 1,\n",
       " 'min_samples_split': 2,\n",
       " 'min_weight_fraction_leaf': 0.0,\n",
       " 'n_estimators': 20,\n",
       " 'n_jobs': None,\n",
       " 'oob_score': False,\n",
       " 'random_state': 1,\n",
       " 'verbose': 0,\n",
       " 'warm_start': False}"
      ]
     },
     "execution_count": 31,
     "metadata": {},
     "output_type": "execute_result"
    }
   ],
   "source": [
    "model.get_params()"
   ]
  },
  {
   "cell_type": "markdown",
   "id": "e7164ec4",
   "metadata": {},
   "source": [
    "- Топ 3 важных признака по мнению модели это:\n",
    "1. Возраст\n",
    "2. Количество продуктов банка, используемых клиентом\n",
    "3. Активность клиента\n",
    "- Так же интересно, что для модели важно клиент из Германии"
   ]
  },
  {
   "cell_type": "code",
   "execution_count": 32,
   "id": "8948adee",
   "metadata": {},
   "outputs": [],
   "source": [
    "#сделаем предсказание и посчитаем f1\n",
    "pred = model.predict(X_test)\n",
    "f1 = f1_score(y_test, pred)"
   ]
  },
  {
   "cell_type": "code",
   "execution_count": 33,
   "id": "2e72297c",
   "metadata": {},
   "outputs": [
    {
     "name": "stdout",
     "output_type": "stream",
     "text": [
      "F1:  0.5011037527593819\n"
     ]
    }
   ],
   "source": [
    "print('F1: ',f1)"
   ]
  },
  {
   "cell_type": "code",
   "execution_count": 34,
   "id": "fad668e1",
   "metadata": {},
   "outputs": [],
   "source": [
    "#считаем вероятности классов\n",
    "prob_val = model.predict_proba(X_test)"
   ]
  },
  {
   "cell_type": "code",
   "execution_count": 35,
   "id": "bdc4f3a3",
   "metadata": {},
   "outputs": [
    {
     "data": {
      "image/png": "[encoded data removed]",
      "text/plain": [
       "<Figure size 720x504 with 1 Axes>"
      ]
     },
     "metadata": {
      "needs_background": "light"
     },
     "output_type": "display_data"
    }
   ],
   "source": [
    "#посмотрим на точность и полноту на графике\n",
    "precision, recall, thresholds = precision_recall_curve(y_test, prob_val[:, 1])\n",
    "\n",
    "plt.figure(figsize=(10, 7))\n",
    "plt.step(recall, precision, where='post')\n",
    "plt.xlabel('Recall')\n",
    "plt.ylabel('Precision')\n",
    "plt.ylim([0.0, 1.05])\n",
    "plt.xlim([0.0, 1.0])\n",
    "plt.title('Кривая Precision-Recall')\n",
    "plt.show() "
   ]
  },
  {
   "cell_type": "markdown",
   "id": "3ecaacea",
   "metadata": {},
   "source": [
    "- Не знаю как это корректно интерпретировать, чем ниже порог тем меньше точность так как станет меньше 0, но полнота станет больше т.к больше ответов с 1"
   ]
  },
  {
   "cell_type": "code",
   "execution_count": 36,
   "id": "358d5806",
   "metadata": {},
   "outputs": [],
   "source": [
    "#thresholds"
   ]
  },
  {
   "cell_type": "code",
   "execution_count": 37,
   "id": "4c3b2e88",
   "metadata": {},
   "outputs": [
    {
     "data": {
      "text/plain": [
       "Text(33.0, 0.5, 'Ответы')"
      ]
     },
     "execution_count": 37,
     "metadata": {},
     "output_type": "execute_result"
    },
    {
     "data": {
      "image/png": "[encoded data removed]",
      "text/plain": [
       "<Figure size 432x288 with 2 Axes>"
      ]
     },
     "metadata": {
      "needs_background": "light"
     },
     "output_type": "display_data"
    }
   ],
   "source": [
    "#посмотрим матрицу ошибок \n",
    "cf_m = confusion_matrix(y_test, pred)\n",
    "sns.heatmap(cf_m,annot=True, fmt = 'd')\n",
    "plt.xlabel('Предсказания', fontsize = 12)\n",
    "plt.ylabel('Ответы', fontsize = 12)"
   ]
  },
  {
   "cell_type": "markdown",
   "id": "04ae2ed8",
   "metadata": {},
   "source": [
    "- Наша модель предсказывает больше отрицательный класс, неудивительно, ведь классы несбалансированы"
   ]
  },
  {
   "cell_type": "code",
   "execution_count": 38,
   "id": "a213ff08",
   "metadata": {},
   "outputs": [
    {
     "data": {
      "text/plain": [
       "Text(0.5, 1.0, 'ROC-кривая')"
      ]
     },
     "execution_count": 38,
     "metadata": {},
     "output_type": "execute_result"
    },
    {
     "data": {
      "image/png": "[encoded data removed]",
      "text/plain": [
       "<Figure size 432x288 with 1 Axes>"
      ]
     },
     "metadata": {
      "needs_background": "light"
     },
     "output_type": "display_data"
    }
   ],
   "source": [
    "#построим график roc\n",
    "fpr, tpr, thresholds = roc_curve(y_test, prob_val[:, 1])\n",
    "\n",
    "plt.figure()\n",
    "plt.plot(fpr, tpr)\n",
    "\n",
    "# ROC-кривая случайной модели (выглядит как прямая)\n",
    "plt.plot([0, 1], [0, 1], linestyle='--')\n",
    "\n",
    "plt.xlim([0.0, 1.0])\n",
    "plt.ylim([0.0, 1.0])\n",
    "\n",
    "plt.xlabel('False Positive Rate')\n",
    "plt.ylabel('True Positive Rate')\n",
    "\n",
    "plt.title('ROC-кривая')"
   ]
  },
  {
   "cell_type": "code",
   "execution_count": 39,
   "id": "2bf7d2ad",
   "metadata": {},
   "outputs": [
    {
     "name": "stdout",
     "output_type": "stream",
     "text": [
      "AUC-ROC:  0.8583677617212784\n"
     ]
    }
   ],
   "source": [
    "# посчитаем площадь под кривой\n",
    "auc_roc = roc_auc_score(y_test, prob_val[:, 1])\n",
    "print('AUC-ROC: ', auc_roc)"
   ]
  },
  {
   "cell_type": "markdown",
   "id": "6f148501",
   "metadata": {},
   "source": [
    "- Если я правильно понял, то чем выше график, тем лучше модель разбирается в классах, то есть лучше понимает что 0 это 0, а 1 это 1, площадь под кривой 0.85, что не плохо как бы, но\n",
    "- мне не понятно почему такой показатель, то есть как бы модель хорошо разбирается в положительнном классе, но если у нас классы несбалансированны, + модель не настроена"
   ]
  },
  {
   "cell_type": "markdown",
   "id": "e999b8ce",
   "metadata": {},
   "source": [
    "## Борьба с дисбалансом"
   ]
  },
  {
   "cell_type": "markdown",
   "id": "3e529755",
   "metadata": {},
   "source": [
    "### Upsampling - увеличим кол-во положительных объектов"
   ]
  },
  {
   "cell_type": "code",
   "execution_count": 40,
   "id": "35441d07",
   "metadata": {},
   "outputs": [
    {
     "data": {
      "text/plain": [
       "0    5590\n",
       "1    1410\n",
       "Name: exited, dtype: int64"
      ]
     },
     "execution_count": 40,
     "metadata": {},
     "output_type": "execute_result"
    }
   ],
   "source": [
    "#посмотрим классы целевого признака\n",
    "y_train.value_counts()"
   ]
  },
  {
   "cell_type": "code",
   "execution_count": 41,
   "id": "aa8e8593",
   "metadata": {},
   "outputs": [],
   "source": [
    "#функция, вернет увеличенный положительный класс\n",
    "def upsample(features, target, repeat):\n",
    "    features_zeros = features[target == 0]\n",
    "    features_ones = features[target == 1]\n",
    "    \n",
    "    target_zeros = target[target == 0]\n",
    "    target_ones = target[target == 1]\n",
    "    \n",
    "    X_upsampled = pd.concat([features_zeros] + [features_ones] * repeat)\n",
    "    y_upsampled = pd.concat([target_zeros] + [target_ones] * repeat)\n",
    "    \n",
    "    X_upsampled, y_upsampled = shuffle(X_upsampled, y_upsampled, random_state=1)\n",
    "    \n",
    "    return X_upsampled, y_upsampled\n"
   ]
  },
  {
   "cell_type": "code",
   "execution_count": 42,
   "id": "9fbf7d79",
   "metadata": {},
   "outputs": [],
   "source": [
    "#увеличим положительный класс в 4 раза\n",
    "X_upsampled, y_upsampled = upsample(X_train, y_train, 4)"
   ]
  },
  {
   "cell_type": "code",
   "execution_count": 43,
   "id": "f259b1bc",
   "metadata": {},
   "outputs": [
    {
     "data": {
      "text/plain": [
       "((11230, 11), (11230,))"
      ]
     },
     "execution_count": 43,
     "metadata": {},
     "output_type": "execute_result"
    }
   ],
   "source": [
    "X_upsampled.shape,  y_upsampled.shape"
   ]
  },
  {
   "cell_type": "code",
   "execution_count": 44,
   "id": "28ea4c53",
   "metadata": {},
   "outputs": [
    {
     "data": {
      "text/plain": [
       "1    5640\n",
       "0    5590\n",
       "Name: exited, dtype: int64"
      ]
     },
     "execution_count": 44,
     "metadata": {},
     "output_type": "execute_result"
    }
   ],
   "source": [
    "#проверим\n",
    "y_upsampled.value_counts()"
   ]
  },
  {
   "cell_type": "markdown",
   "id": "c74b9084",
   "metadata": {},
   "source": [
    "### GridSearchCV - upsampling"
   ]
  },
  {
   "cell_type": "code",
   "execution_count": 45,
   "id": "945512b6",
   "metadata": {},
   "outputs": [],
   "source": [
    "#создадим модель\n",
    "rfc = RandomForestClassifier(random_state=1)\n",
    "#создаём словарь в котором будут содержаться условия которые будут тестироваться с помощью GridSearch\n",
    "parametrs = { 'n_estimators': range (10, 51, 10),\n",
    "              'max_depth': range (1, 12), #7\n",
    "              'min_samples_leaf': range (1,5),\n",
    "              'min_samples_split': range (2,10,2)}"
   ]
  },
  {
   "cell_type": "code",
   "execution_count": 46,
   "id": "84cfdea8",
   "metadata": {},
   "outputs": [
    {
     "name": "stdout",
     "output_type": "stream",
     "text": [
      "Fitting 5 folds for each of 880 candidates, totalling 4400 fits\n",
      "CPU times: total: 56.6 s\n",
      "Wall time: 12min 25s\n"
     ]
    },
    {
     "data": {
      "text/plain": [
       "GridSearchCV(cv=5, estimator=RandomForestClassifier(random_state=1), n_jobs=-1,\n",
       "             param_grid={'max_depth': range(1, 12),\n",
       "                         'min_samples_leaf': range(1, 5),\n",
       "                         'min_samples_split': range(2, 10, 2),\n",
       "                         'n_estimators': range(10, 51, 10)},\n",
       "             verbose=5)"
      ]
     },
     "execution_count": 46,
     "metadata": {},
     "output_type": "execute_result"
    }
   ],
   "source": [
    "%%time\n",
    "#поиск лучших гиперпараметров для модели\n",
    "grid = GridSearchCV(rfc, parametrs, cv=5,verbose = 5, n_jobs=-1)\n",
    "grid.fit(X_upsampled, y_upsampled)"
   ]
  },
  {
   "cell_type": "code",
   "execution_count": 47,
   "id": "8bc59438",
   "metadata": {},
   "outputs": [
    {
     "data": {
      "text/plain": [
       "{'max_depth': 11,\n",
       " 'min_samples_leaf': 1,\n",
       " 'min_samples_split': 2,\n",
       " 'n_estimators': 40}"
      ]
     },
     "execution_count": 47,
     "metadata": {},
     "output_type": "execute_result"
    }
   ],
   "source": [
    "grid.best_params_"
   ]
  },
  {
   "cell_type": "code",
   "execution_count": 48,
   "id": "ec6140d7",
   "metadata": {},
   "outputs": [
    {
     "name": "stdout",
     "output_type": "stream",
     "text": [
      "F1:  0.6264150943396226\n"
     ]
    }
   ],
   "source": [
    "#сделаем предсказание и посчитаем f1\n",
    "rfc = grid.best_estimator_\n",
    "pred = rfc.predict(X_test)\n",
    "f1 = f1_score(y_test, pred)\n",
    "print('F1: ',f1)"
   ]
  },
  {
   "cell_type": "markdown",
   "id": "1827b1e8",
   "metadata": {},
   "source": [
    "- **Лучшая модель по [итогам исследования](#finish)**\n",
    "<a id='start'></a>"
   ]
  },
  {
   "cell_type": "code",
   "execution_count": 49,
   "id": "5cd7613d",
   "metadata": {},
   "outputs": [
    {
     "data": {
      "text/plain": [
       "Text(33.0, 0.5, 'Ответы')"
      ]
     },
     "execution_count": 49,
     "metadata": {},
     "output_type": "execute_result"
    },
    {
     "data": {
      "image/png": "[encoded data removed]",
      "text/plain": [
       "<Figure size 432x288 with 2 Axes>"
      ]
     },
     "metadata": {
      "needs_background": "light"
     },
     "output_type": "display_data"
    }
   ],
   "source": [
    "#посмотрим матрицу ошибок \n",
    "cf_m = confusion_matrix(y_test, pred)\n",
    "sns.heatmap(cf_m,annot=True, fmt = 'd')\n",
    "plt.xlabel('Предсказания', fontsize = 12)\n",
    "plt.ylabel('Ответы', fontsize = 12)"
   ]
  },
  {
   "cell_type": "markdown",
   "id": "5a17cab2",
   "metadata": {},
   "source": [
    "- Можно сказать, что после upsampling'a произошли небольшие улучшения, модель стала видеть больше положительный класс, но так же выросло кол-во ложно положительных"
   ]
  },
  {
   "cell_type": "code",
   "execution_count": 50,
   "id": "cb733a6c",
   "metadata": {},
   "outputs": [],
   "source": [
    "#считаем вероятности классов\n",
    "prob_val = rfc.predict_proba(X_test)"
   ]
  },
  {
   "cell_type": "code",
   "execution_count": 51,
   "id": "21d5b758",
   "metadata": {},
   "outputs": [
    {
     "data": {
      "text/plain": [
       "Text(0.5, 1.0, 'ROC-кривая - Upsampling')"
      ]
     },
     "execution_count": 51,
     "metadata": {},
     "output_type": "execute_result"
    },
    {
     "data": {
      "image/png": "[encoded data removed]",
      "text/plain": [
       "<Figure size 432x288 with 1 Axes>"
      ]
     },
     "metadata": {
      "needs_background": "light"
     },
     "output_type": "display_data"
    }
   ],
   "source": [
    "#построим график roc\n",
    "fpr, tpr, thresholds = roc_curve(y_test, prob_val[:, 1])\n",
    "\n",
    "plt.figure()\n",
    "plt.plot(fpr, tpr)\n",
    "\n",
    "# ROC-кривая случайной модели (выглядит как прямая)\n",
    "plt.plot([0, 1], [0, 1], linestyle='--')\n",
    "\n",
    "plt.xlim([0.0, 1.0])\n",
    "plt.ylim([0.0, 1.0])\n",
    "\n",
    "plt.xlabel('False Positive Rate')\n",
    "plt.ylabel('True Positive Rate')\n",
    "\n",
    "plt.title('ROC-кривая - Upsampling')"
   ]
  },
  {
   "cell_type": "code",
   "execution_count": 52,
   "id": "a979e2b9",
   "metadata": {},
   "outputs": [
    {
     "name": "stdout",
     "output_type": "stream",
     "text": [
      "AUC-ROC:  0.8584621919507806\n"
     ]
    }
   ],
   "source": [
    "# посчитаем площадь под кривой\n",
    "auc_roc = roc_auc_score(y_test, prob_val[:, 1])\n",
    "print('AUC-ROC: ', auc_roc)"
   ]
  },
  {
   "cell_type": "markdown",
   "id": "53bef98e",
   "metadata": {},
   "source": [
    "- Небольшие улучшения, 0.85 на предыдущей без настроек, с настройками 0.86"
   ]
  },
  {
   "cell_type": "markdown",
   "id": "66b0a97a",
   "metadata": {},
   "source": [
    "**Downsampling - уменьшение выборки**"
   ]
  },
  {
   "cell_type": "code",
   "execution_count": 53,
   "id": "a4866ffe",
   "metadata": {},
   "outputs": [],
   "source": [
    "def downsample(features, target, fraction):\n",
    "    features_zeros = features[target == 0]\n",
    "    features_ones = features[target == 1]\n",
    "    target_zeros = target[target == 0]\n",
    "    target_ones = target[target == 1]\n",
    "\n",
    "    X_downsampled = pd.concat([features_zeros.sample(frac=fraction, random_state=1)] + [features_ones])\n",
    "    y_downsampled = pd.concat([target_zeros.sample(frac=fraction, random_state=1)] + [target_ones])\n",
    "    \n",
    "    X_downsampled, y_downsampled = shuffle(X_downsampled, y_downsampled, random_state=1)\n",
    "    \n",
    "    return X_downsampled, y_downsampled"
   ]
  },
  {
   "cell_type": "code",
   "execution_count": 54,
   "id": "cfd4b39d",
   "metadata": {},
   "outputs": [],
   "source": [
    "#уменьшим выборку в 0.1\n",
    "X_downsampled, y_downsampled = downsample(X_train, y_train, 0.1)"
   ]
  },
  {
   "cell_type": "code",
   "execution_count": 55,
   "id": "36c3b507",
   "metadata": {},
   "outputs": [
    {
     "name": "stdout",
     "output_type": "stream",
     "text": [
      "(1969, 11)\n",
      "(1969,)\n"
     ]
    }
   ],
   "source": [
    "#смотрим размер\n",
    "print(X_downsampled.shape)\n",
    "print(y_downsampled.shape)"
   ]
  },
  {
   "cell_type": "code",
   "execution_count": 56,
   "id": "b0de07ca",
   "metadata": {},
   "outputs": [
    {
     "data": {
      "text/plain": [
       "1    1410\n",
       "0     559\n",
       "Name: exited, dtype: int64"
      ]
     },
     "execution_count": 56,
     "metadata": {},
     "output_type": "execute_result"
    }
   ],
   "source": [
    "#целевой признак\n",
    "y_downsampled.value_counts()"
   ]
  },
  {
   "cell_type": "code",
   "execution_count": 57,
   "id": "777aad30",
   "metadata": {},
   "outputs": [
    {
     "data": {
      "text/plain": [
       "{'max_depth': 11,\n",
       " 'min_samples_leaf': 1,\n",
       " 'min_samples_split': 2,\n",
       " 'n_estimators': 40}"
      ]
     },
     "execution_count": 57,
     "metadata": {},
     "output_type": "execute_result"
    }
   ],
   "source": [
    "#попробуем модель на этих настройках\n",
    "grid.best_params_"
   ]
  },
  {
   "cell_type": "code",
   "execution_count": 58,
   "id": "736efc3c",
   "metadata": {},
   "outputs": [
    {
     "name": "stdout",
     "output_type": "stream",
     "text": [
      "F1:  0.46865203761755486\n"
     ]
    }
   ],
   "source": [
    "model = RandomForestClassifier(random_state=1, max_depth=6, n_estimators=50, \n",
    "                               min_samples_leaf=2, min_samples_split=2)\n",
    "model.fit(X_downsampled, y_downsampled)\n",
    "pred = model.predict(X_test)\n",
    "f1 = f1_score(y_test, pred)\n",
    "print('F1: ',f1)"
   ]
  },
  {
   "cell_type": "code",
   "execution_count": 59,
   "id": "1a583894",
   "metadata": {},
   "outputs": [
    {
     "data": {
      "text/plain": [
       "Text(33.0, 0.5, 'Ответы')"
      ]
     },
     "execution_count": 59,
     "metadata": {},
     "output_type": "execute_result"
    },
    {
     "data": {
      "image/png": "[encoded data removed]",
      "text/plain": [
       "<Figure size 432x288 with 2 Axes>"
      ]
     },
     "metadata": {
      "needs_background": "light"
     },
     "output_type": "display_data"
    }
   ],
   "source": [
    "#посмотрим матрицу ошибок \n",
    "cf_m = confusion_matrix(y_test, pred)\n",
    "sns.heatmap(cf_m,annot=True, fmt = 'd')\n",
    "plt.xlabel('Предсказания', fontsize = 12)\n",
    "plt.ylabel('Ответы', fontsize = 12)"
   ]
  },
  {
   "cell_type": "markdown",
   "id": "623f20b2",
   "metadata": {},
   "source": [
    "- После уменьшения выборки модель стала лучше видеть TP, но увеличилось кол-во ложно-положительных, снизилась доля истинно отрицательных, F1 - 0.46, возможно из-за предыдущих настроек модели"
   ]
  },
  {
   "cell_type": "code",
   "execution_count": 60,
   "id": "9514be37",
   "metadata": {},
   "outputs": [],
   "source": [
    "#считаем вероятности классов\n",
    "prob_val = model.predict_proba(X_test)"
   ]
  },
  {
   "cell_type": "code",
   "execution_count": 61,
   "id": "99be8ff6",
   "metadata": {},
   "outputs": [
    {
     "data": {
      "text/plain": [
       "Text(0.5, 1.0, 'ROC-кривая - Downsampling')"
      ]
     },
     "execution_count": 61,
     "metadata": {},
     "output_type": "execute_result"
    },
    {
     "data": {
      "image/png": "[encoded data removed]",
      "text/plain": [
       "<Figure size 432x288 with 1 Axes>"
      ]
     },
     "metadata": {
      "needs_background": "light"
     },
     "output_type": "display_data"
    }
   ],
   "source": [
    "#построим график roc\n",
    "fpr, tpr, thresholds = roc_curve(y_test, prob_val[:, 1])\n",
    "\n",
    "plt.figure()\n",
    "plt.plot(fpr, tpr)\n",
    "\n",
    "# ROC-кривая случайной модели (выглядит как прямая)\n",
    "plt.plot([0, 1], [0, 1], linestyle='--')\n",
    "\n",
    "plt.xlim([0.0, 1.0])\n",
    "plt.ylim([0.0, 1.0])\n",
    "\n",
    "plt.xlabel('False Positive Rate')\n",
    "plt.ylabel('True Positive Rate')\n",
    "\n",
    "plt.title('ROC-кривая - Downsampling')"
   ]
  },
  {
   "cell_type": "code",
   "execution_count": 62,
   "id": "a2b8d154",
   "metadata": {},
   "outputs": [
    {
     "name": "stdout",
     "output_type": "stream",
     "text": [
      "AUC-ROC:  0.855557370229005\n"
     ]
    }
   ],
   "source": [
    "# посчитаем площадь под кривой\n",
    "auc_roc = roc_auc_score(y_test, prob_val[:, 1])\n",
    "print('AUC-ROC: ', auc_roc)"
   ]
  },
  {
   "cell_type": "markdown",
   "id": "0c540384",
   "metadata": {},
   "source": [
    "- Так же относительно предыдущей площадь снизилась, незначительно на 0.01"
   ]
  },
  {
   "cell_type": "markdown",
   "id": "07da2307",
   "metadata": {},
   "source": [
    "### GridSearchCV - downsampling"
   ]
  },
  {
   "cell_type": "code",
   "execution_count": 63,
   "id": "abc9dd43",
   "metadata": {},
   "outputs": [],
   "source": [
    "#создадим модель\n",
    "rfc = RandomForestClassifier(random_state=1)\n",
    "#создаём словарь в котором будут содержаться условия которые будут тестироваться с помощью GridSearch\n",
    "parametrs = { 'n_estimators': range (10, 101, 10),\n",
    "              'max_depth': range (1, 11),\n",
    "              'min_samples_leaf': range (1,5),\n",
    "              'min_samples_split': range (2,10,2)}"
   ]
  },
  {
   "cell_type": "code",
   "execution_count": 64,
   "id": "83a4fa7b",
   "metadata": {},
   "outputs": [
    {
     "name": "stdout",
     "output_type": "stream",
     "text": [
      "Fitting 5 folds for each of 480 candidates, totalling 2400 fits\n",
      "CPU times: total: 9.92 s\n",
      "Wall time: 2min 16s\n"
     ]
    },
    {
     "data": {
      "text/plain": [
       "GridSearchCV(cv=5, estimator=RandomForestClassifier(random_state=1), n_jobs=-1,\n",
       "             param_grid={'max_depth': range(1, 7),\n",
       "                         'min_samples_leaf': range(1, 5),\n",
       "                         'min_samples_split': range(2, 10, 2),\n",
       "                         'n_estimators': range(10, 51, 10)},\n",
       "             verbose=5)"
      ]
     },
     "execution_count": 64,
     "metadata": {},
     "output_type": "execute_result"
    }
   ],
   "source": [
    "%%time\n",
    "#поиск лучших гиперпараметров для модели\n",
    "grid = GridSearchCV(rfc, parametrs, cv=5,verbose = 5, n_jobs=-1)\n",
    "grid.fit(X_downsampled, y_downsampled)"
   ]
  },
  {
   "cell_type": "code",
   "execution_count": 65,
   "id": "d67c0230",
   "metadata": {},
   "outputs": [
    {
     "data": {
      "text/plain": [
       "{'max_depth': 6,\n",
       " 'min_samples_leaf': 1,\n",
       " 'min_samples_split': 4,\n",
       " 'n_estimators': 30}"
      ]
     },
     "execution_count": 65,
     "metadata": {},
     "output_type": "execute_result"
    }
   ],
   "source": [
    "#лучшие параметры\n",
    "grid.best_params_"
   ]
  },
  {
   "cell_type": "code",
   "execution_count": 66,
   "id": "fecc6145",
   "metadata": {},
   "outputs": [
    {
     "name": "stdout",
     "output_type": "stream",
     "text": [
      "F1:  0.4618350038550501\n"
     ]
    }
   ],
   "source": [
    "#сделаем предсказание и посчитаем f1\n",
    "rfc = grid.best_estimator_\n",
    "pred = rfc.predict(X_test)\n",
    "f1 = f1_score(y_test, pred)\n",
    "print('F1: ',f1)"
   ]
  },
  {
   "cell_type": "markdown",
   "id": "7ec46368",
   "metadata": {},
   "source": [
    "- Результат идентичный предыдущему, предлагаю пробовать стандартизацию."
   ]
  },
  {
   "cell_type": "markdown",
   "id": "952593e9",
   "metadata": {},
   "source": [
    "### Масштабирование признаков"
   ]
  },
  {
   "cell_type": "code",
   "execution_count": 67,
   "id": "a9c88306",
   "metadata": {},
   "outputs": [
    {
     "data": {
      "text/html": [
       "<div>\n",
       "<style scoped>\n",
       "    .dataframe tbody tr th:only-of-type {\n",
       "        vertical-align: middle;\n",
       "    }\n",
       "\n",
       "    .dataframe tbody tr th {\n",
       "        vertical-align: top;\n",
       "    }\n",
       "\n",
       "    .dataframe thead th {\n",
       "        text-align: right;\n",
       "    }\n",
       "</style>\n",
       "<table border=\"1\" class=\"dataframe\">\n",
       "  <thead>\n",
       "    <tr style=\"text-align: right;\">\n",
       "      <th></th>\n",
       "      <th>credit_score</th>\n",
       "      <th>age</th>\n",
       "      <th>tenure</th>\n",
       "      <th>balance</th>\n",
       "      <th>num_of_products</th>\n",
       "      <th>has_cr_card</th>\n",
       "      <th>is_active_member</th>\n",
       "      <th>estimated_salary</th>\n",
       "      <th>geography_Germany</th>\n",
       "      <th>geography_Spain</th>\n",
       "      <th>gender_Male</th>\n",
       "    </tr>\n",
       "  </thead>\n",
       "  <tbody>\n",
       "    <tr>\n",
       "      <th>2228</th>\n",
       "      <td>-0.060429</td>\n",
       "      <td>-0.185279</td>\n",
       "      <td>1.082634</td>\n",
       "      <td>-1.226424</td>\n",
       "      <td>0.798528</td>\n",
       "      <td>1</td>\n",
       "      <td>0</td>\n",
       "      <td>-1.376867</td>\n",
       "      <td>0</td>\n",
       "      <td>0</td>\n",
       "      <td>0</td>\n",
       "    </tr>\n",
       "    <tr>\n",
       "      <th>5910</th>\n",
       "      <td>-1.743631</td>\n",
       "      <td>0.005323</td>\n",
       "      <td>0.357612</td>\n",
       "      <td>-1.226424</td>\n",
       "      <td>-0.915051</td>\n",
       "      <td>1</td>\n",
       "      <td>1</td>\n",
       "      <td>-1.312339</td>\n",
       "      <td>0</td>\n",
       "      <td>0</td>\n",
       "      <td>0</td>\n",
       "    </tr>\n",
       "    <tr>\n",
       "      <th>1950</th>\n",
       "      <td>0.311322</td>\n",
       "      <td>-0.185279</td>\n",
       "      <td>1.807656</td>\n",
       "      <td>0.761149</td>\n",
       "      <td>-0.915051</td>\n",
       "      <td>1</td>\n",
       "      <td>0</td>\n",
       "      <td>-0.318843</td>\n",
       "      <td>0</td>\n",
       "      <td>0</td>\n",
       "      <td>0</td>\n",
       "    </tr>\n",
       "    <tr>\n",
       "      <th>2119</th>\n",
       "      <td>0.414586</td>\n",
       "      <td>-0.947689</td>\n",
       "      <td>-0.004898</td>\n",
       "      <td>-1.226424</td>\n",
       "      <td>0.798528</td>\n",
       "      <td>1</td>\n",
       "      <td>0</td>\n",
       "      <td>0.147481</td>\n",
       "      <td>0</td>\n",
       "      <td>0</td>\n",
       "      <td>1</td>\n",
       "    </tr>\n",
       "    <tr>\n",
       "      <th>5947</th>\n",
       "      <td>0.063488</td>\n",
       "      <td>0.577131</td>\n",
       "      <td>0.720123</td>\n",
       "      <td>1.116374</td>\n",
       "      <td>-0.915051</td>\n",
       "      <td>1</td>\n",
       "      <td>1</td>\n",
       "      <td>1.727595</td>\n",
       "      <td>0</td>\n",
       "      <td>0</td>\n",
       "      <td>0</td>\n",
       "    </tr>\n",
       "  </tbody>\n",
       "</table>\n",
       "</div>"
      ],
      "text/plain": [
       "      credit_score       age    tenure   balance  num_of_products  \\\n",
       "2228     -0.060429 -0.185279  1.082634 -1.226424         0.798528   \n",
       "5910     -1.743631  0.005323  0.357612 -1.226424        -0.915051   \n",
       "1950      0.311322 -0.185279  1.807656  0.761149        -0.915051   \n",
       "2119      0.414586 -0.947689 -0.004898 -1.226424         0.798528   \n",
       "5947      0.063488  0.577131  0.720123  1.116374        -0.915051   \n",
       "\n",
       "      has_cr_card  is_active_member  estimated_salary  geography_Germany  \\\n",
       "2228            1                 0         -1.376867                  0   \n",
       "5910            1                 1         -1.312339                  0   \n",
       "1950            1                 0         -0.318843                  0   \n",
       "2119            1                 0          0.147481                  0   \n",
       "5947            1                 1          1.727595                  0   \n",
       "\n",
       "      geography_Spain  gender_Male  \n",
       "2228                0            0  \n",
       "5910                0            0  \n",
       "1950                0            0  \n",
       "2119                0            1  \n",
       "5947                0            0  "
      ]
     },
     "execution_count": 67,
     "metadata": {},
     "output_type": "execute_result"
    }
   ],
   "source": [
    "#признаки для масштабирования, среднее будет = 0, std = 1\n",
    "numeric = ['credit_score', 'age', 'tenure', 'num_of_products', 'estimated_salary','balance']\n",
    "\n",
    "scaler = StandardScaler()\n",
    "scaler.fit(X_train[numeric])\n",
    "#масштабируем обучающую и тестовую\n",
    "X_train[numeric] = scaler.transform(X_train[numeric])\n",
    "X_test[numeric] = scaler.transform(X_test[numeric])\n",
    "\n",
    "X_train.head()"
   ]
  },
  {
   "cell_type": "markdown",
   "id": "9ceb83ad",
   "metadata": {},
   "source": [
    "### Случайный лес на стандартизированных данных"
   ]
  },
  {
   "cell_type": "code",
   "execution_count": 70,
   "id": "bef87ade",
   "metadata": {},
   "outputs": [],
   "source": [
    "#создадим модель\n",
    "rfc = RandomForestClassifier(random_state=1)\n",
    "#создаём словарь в котором будут содержаться условия которые будут тестироваться с помощью GridSearch\n",
    "parametrs = { 'n_estimators': range (10, 51, 10),\n",
    "              'max_depth': range (1, 7),\n",
    "              'min_samples_leaf': range (1,5),\n",
    "              'min_samples_split': range (2,10,2)}"
   ]
  },
  {
   "cell_type": "code",
   "execution_count": 71,
   "id": "7ada6c8e",
   "metadata": {},
   "outputs": [
    {
     "name": "stdout",
     "output_type": "stream",
     "text": [
      "Fitting 5 folds for each of 480 candidates, totalling 2400 fits\n",
      "CPU times: total: 17.3 s\n",
      "Wall time: 3min 50s\n"
     ]
    },
    {
     "data": {
      "text/plain": [
       "GridSearchCV(cv=5, estimator=RandomForestClassifier(random_state=1), n_jobs=-1,\n",
       "             param_grid={'max_depth': range(1, 7),\n",
       "                         'min_samples_leaf': range(1, 5),\n",
       "                         'min_samples_split': range(2, 10, 2),\n",
       "                         'n_estimators': range(10, 51, 10)},\n",
       "             verbose=5)"
      ]
     },
     "execution_count": 71,
     "metadata": {},
     "output_type": "execute_result"
    }
   ],
   "source": [
    "%%time\n",
    "#поиск лучших гиперпараметров для модели\n",
    "grid = GridSearchCV(rfc, parametrs, cv=5,verbose = 5, n_jobs=-1)\n",
    "grid.fit(X_train, y_train)"
   ]
  },
  {
   "cell_type": "code",
   "execution_count": 72,
   "id": "1f014663",
   "metadata": {},
   "outputs": [
    {
     "data": {
      "text/plain": [
       "{'max_depth': 6,\n",
       " 'min_samples_leaf': 3,\n",
       " 'min_samples_split': 2,\n",
       " 'n_estimators': 40}"
      ]
     },
     "execution_count": 72,
     "metadata": {},
     "output_type": "execute_result"
    }
   ],
   "source": [
    "#лучшие параметры\n",
    "grid.best_params_"
   ]
  },
  {
   "cell_type": "code",
   "execution_count": 73,
   "id": "ddc54706",
   "metadata": {},
   "outputs": [
    {
     "name": "stdout",
     "output_type": "stream",
     "text": [
      "F1:  0.5305676855895196\n"
     ]
    }
   ],
   "source": [
    "#сделаем предсказание и посчитаем f1\n",
    "rfc = grid.best_estimator_\n",
    "pred = rfc.predict(X_test)\n",
    "f1 = f1_score(y_test, pred)\n",
    "print('F1: ',f1)"
   ]
  },
  {
   "cell_type": "markdown",
   "id": "0bb1827f",
   "metadata": {},
   "source": [
    "### Масштабирование  upsampling данных"
   ]
  },
  {
   "cell_type": "code",
   "execution_count": 74,
   "id": "9934f084",
   "metadata": {},
   "outputs": [
    {
     "data": {
      "text/html": [
       "<div>\n",
       "<style scoped>\n",
       "    .dataframe tbody tr th:only-of-type {\n",
       "        vertical-align: middle;\n",
       "    }\n",
       "\n",
       "    .dataframe tbody tr th {\n",
       "        vertical-align: top;\n",
       "    }\n",
       "\n",
       "    .dataframe thead th {\n",
       "        text-align: right;\n",
       "    }\n",
       "</style>\n",
       "<table border=\"1\" class=\"dataframe\">\n",
       "  <thead>\n",
       "    <tr style=\"text-align: right;\">\n",
       "      <th></th>\n",
       "      <th>credit_score</th>\n",
       "      <th>age</th>\n",
       "      <th>tenure</th>\n",
       "      <th>balance</th>\n",
       "      <th>num_of_products</th>\n",
       "      <th>has_cr_card</th>\n",
       "      <th>is_active_member</th>\n",
       "      <th>estimated_salary</th>\n",
       "      <th>geography_Germany</th>\n",
       "      <th>geography_Spain</th>\n",
       "      <th>gender_Male</th>\n",
       "    </tr>\n",
       "  </thead>\n",
       "  <tbody>\n",
       "    <tr>\n",
       "      <th>6801</th>\n",
       "      <td>-0.114796</td>\n",
       "      <td>0.181416</td>\n",
       "      <td>1.075788</td>\n",
       "      <td>-1.343999</td>\n",
       "      <td>-0.761294</td>\n",
       "      <td>1</td>\n",
       "      <td>0</td>\n",
       "      <td>-1.531083</td>\n",
       "      <td>0</td>\n",
       "      <td>1</td>\n",
       "      <td>1</td>\n",
       "    </tr>\n",
       "    <tr>\n",
       "      <th>6707</th>\n",
       "      <td>-0.420963</td>\n",
       "      <td>-0.197617</td>\n",
       "      <td>1.075788</td>\n",
       "      <td>0.374429</td>\n",
       "      <td>-0.761294</td>\n",
       "      <td>1</td>\n",
       "      <td>0</td>\n",
       "      <td>0.076380</td>\n",
       "      <td>1</td>\n",
       "      <td>0</td>\n",
       "      <td>0</td>\n",
       "    </tr>\n",
       "    <tr>\n",
       "      <th>1469</th>\n",
       "      <td>1.742613</td>\n",
       "      <td>0.749966</td>\n",
       "      <td>-1.439813</td>\n",
       "      <td>0.628728</td>\n",
       "      <td>3.668412</td>\n",
       "      <td>0</td>\n",
       "      <td>0</td>\n",
       "      <td>1.143386</td>\n",
       "      <td>1</td>\n",
       "      <td>0</td>\n",
       "      <td>0</td>\n",
       "    </tr>\n",
       "    <tr>\n",
       "      <th>9215</th>\n",
       "      <td>-0.655690</td>\n",
       "      <td>-0.387134</td>\n",
       "      <td>1.794531</td>\n",
       "      <td>0.849695</td>\n",
       "      <td>3.668412</td>\n",
       "      <td>1</td>\n",
       "      <td>1</td>\n",
       "      <td>-0.510489</td>\n",
       "      <td>1</td>\n",
       "      <td>0</td>\n",
       "      <td>0</td>\n",
       "    </tr>\n",
       "    <tr>\n",
       "      <th>7676</th>\n",
       "      <td>-1.951795</td>\n",
       "      <td>-0.766167</td>\n",
       "      <td>0.716416</td>\n",
       "      <td>0.746131</td>\n",
       "      <td>-0.761294</td>\n",
       "      <td>0</td>\n",
       "      <td>1</td>\n",
       "      <td>-0.700019</td>\n",
       "      <td>0</td>\n",
       "      <td>0</td>\n",
       "      <td>0</td>\n",
       "    </tr>\n",
       "  </tbody>\n",
       "</table>\n",
       "</div>"
      ],
      "text/plain": [
       "      credit_score       age    tenure   balance  num_of_products  \\\n",
       "6801     -0.114796  0.181416  1.075788 -1.343999        -0.761294   \n",
       "6707     -0.420963 -0.197617  1.075788  0.374429        -0.761294   \n",
       "1469      1.742613  0.749966 -1.439813  0.628728         3.668412   \n",
       "9215     -0.655690 -0.387134  1.794531  0.849695         3.668412   \n",
       "7676     -1.951795 -0.766167  0.716416  0.746131        -0.761294   \n",
       "\n",
       "      has_cr_card  is_active_member  estimated_salary  geography_Germany  \\\n",
       "6801            1                 0         -1.531083                  0   \n",
       "6707            1                 0          0.076380                  1   \n",
       "1469            0                 0          1.143386                  1   \n",
       "9215            1                 1         -0.510489                  1   \n",
       "7676            0                 1         -0.700019                  0   \n",
       "\n",
       "      geography_Spain  gender_Male  \n",
       "6801                1            1  \n",
       "6707                0            0  \n",
       "1469                0            0  \n",
       "9215                0            0  \n",
       "7676                0            0  "
      ]
     },
     "execution_count": 74,
     "metadata": {},
     "output_type": "execute_result"
    }
   ],
   "source": [
    "# признаки для масштабирования, среднее будет = 0, std = 1\n",
    "numeric = ['credit_score', 'age', 'tenure', 'num_of_products', 'estimated_salary','balance']\n",
    "\n",
    "scaler = StandardScaler()\n",
    "scaler.fit(X_upsampled[numeric])\n",
    "#масштабируем обучающую \n",
    "X_upsampled[numeric] = scaler.transform(X_upsampled[numeric])\n",
    "\n",
    "X_upsampled.head()"
   ]
  },
  {
   "cell_type": "markdown",
   "id": "1d24469c",
   "metadata": {},
   "source": [
    "#### RandomForestClassifier +  масштабирование upsampled данных"
   ]
  },
  {
   "cell_type": "code",
   "execution_count": 75,
   "id": "4ecdcc32",
   "metadata": {},
   "outputs": [],
   "source": [
    "#создадим модель\n",
    "rfc = RandomForestClassifier(max_depth=11,\n",
    "                             min_samples_leaf=1,\n",
    "                             min_samples_split=2,\n",
    "                             n_estimators=40,\n",
    "                             random_state=1,)"
   ]
  },
  {
   "cell_type": "code",
   "execution_count": 76,
   "id": "06a480cb",
   "metadata": {},
   "outputs": [
    {
     "name": "stdout",
     "output_type": "stream",
     "text": [
      "F1:  0.5997267759562842\n"
     ]
    }
   ],
   "source": [
    "#сделаем предсказание и посчитаем f1\n",
    "rfc.fit(X_upsampled,y_upsampled)\n",
    "pred = rfc.predict(X_test)\n",
    "f1 = f1_score(y_test, pred)\n",
    "print('F1: ',f1)"
   ]
  },
  {
   "cell_type": "code",
   "execution_count": 77,
   "id": "c52e9f27",
   "metadata": {},
   "outputs": [
    {
     "data": {
      "text/plain": [
       "Text(33.0, 0.5, 'Ответы')"
      ]
     },
     "execution_count": 77,
     "metadata": {},
     "output_type": "execute_result"
    },
    {
     "data": {
      "image/png": "[encoded data removed]",
      "text/plain": [
       "<Figure size 432x288 with 2 Axes>"
      ]
     },
     "metadata": {
      "needs_background": "light"
     },
     "output_type": "display_data"
    }
   ],
   "source": [
    "#посмотрим матрицу ошибок \n",
    "cf_m = confusion_matrix(y_test, pred)\n",
    "sns.heatmap(cf_m,annot=True, fmt = 'd')\n",
    "plt.xlabel('Предсказания', fontsize = 12)\n",
    "plt.ylabel('Ответы', fontsize = 12)"
   ]
  },
  {
   "cell_type": "code",
   "execution_count": 78,
   "id": "5217a228",
   "metadata": {},
   "outputs": [
    {
     "data": {
      "text/plain": [
       "1    5640\n",
       "0    5590\n",
       "Name: exited, dtype: int64"
      ]
     },
     "execution_count": 78,
     "metadata": {},
     "output_type": "execute_result"
    }
   ],
   "source": [
    "y_upsampled.value_counts()"
   ]
  },
  {
   "cell_type": "markdown",
   "id": "0d05d27c",
   "metadata": {},
   "source": [
    "- По сравнению с предыдущей моделью, можно сказать что улучшили F1, но модель всё ещё видит преимущественно отрицательный класс"
   ]
  },
  {
   "cell_type": "markdown",
   "id": "5dc875a7",
   "metadata": {},
   "source": [
    "#### Проверка на адекватность"
   ]
  },
  {
   "cell_type": "code",
   "execution_count": 81,
   "id": "19976a16",
   "metadata": {},
   "outputs": [
    {
     "data": {
      "text/plain": [
       "0    5590\n",
       "1    1410\n",
       "Name: exited, dtype: int64"
      ]
     },
     "execution_count": 81,
     "metadata": {},
     "output_type": "execute_result"
    }
   ],
   "source": [
    "y_train.value_counts()"
   ]
  },
  {
   "cell_type": "code",
   "execution_count": 82,
   "id": "08d94801",
   "metadata": {},
   "outputs": [
    {
     "data": {
      "text/plain": [
       "1    5640\n",
       "0    5590\n",
       "Name: exited, dtype: int64"
      ]
     },
     "execution_count": 82,
     "metadata": {},
     "output_type": "execute_result"
    }
   ],
   "source": [
    "y_upsampled.value_counts()"
   ]
  },
  {
   "cell_type": "code",
   "execution_count": 83,
   "id": "3902972a",
   "metadata": {},
   "outputs": [
    {
     "name": "stdout",
     "output_type": "stream",
     "text": [
      "F1: 0.3457402812241522\n"
     ]
    }
   ],
   "source": [
    "from sklearn.dummy import DummyClassifier\n",
    "\n",
    "dummy_clf = DummyClassifier(random_state=1)\n",
    "dummy_clf.fit(X_upsampled, y_upsampled)\n",
    "DummyClassifier(strategy='most_frequent')\n",
    "predict = dummy_clf.predict(X_test) \n",
    "print('F1:', f1_score(y_test, predict))"
   ]
  },
  {
   "cell_type": "markdown",
   "id": "f67e61e4",
   "metadata": {},
   "source": [
    "# Общий вывод\n",
    "<a id='finish'></a>"
   ]
  },
  {
   "cell_type": "markdown",
   "id": "e66d0598",
   "metadata": {},
   "source": [
    "- Изучили датасет: \n",
    "  - привели названия столбцов к хорошему стилю, \n",
    "  - удалили два признака, которые на мой взгляд осложнили бы работу модели(RowNumber, CustomerId), \n",
    "  - дубликатов не обнаружили\n",
    "  - пропуски в столбце tenure(кол-во лет клиент является клиентом банка заменили на среднее значение\n",
    "***\n",
    "- Разделили данные в отношении 70:30(тестовая)\n",
    "- Узнали, что для случайного леса на первых трех местах следующие признаки:\n",
    "   - 1.Возраст\n",
    "   - 2.Кол-во продуктов банка,которые использует клиентом\n",
    "   - 3.Активность клиента \n",
    "- **Ход исследования:**\n",
    "   - На несбалансированных данных случайный лес выдал рез-т метрики F1- 0.50\n",
    "   - После увеличения выборки и подбора гипермараметров результат метрики F1 модели случайный лес- 0.62 [Лучшая модель](#start)\n",
    "   - Площадь под кривой(AUC-ROC)- 0.86, при максимальном значении 1.\n",
    "   - На уменьшененной выборке рез-т F1- 0.46\n",
    "***\n",
    "- На масштабированной выборке случайный лес показал рез-т F1- 0.53, \n",
    "  - можно сказать что метрика немного улучшилась, после масштабирования относительно обычных данных\n",
    "- На масштабированной выборке и увеличенной случайный лес показал рез-т F1- 0.59\n",
    "***\n",
    "- Логистическая регрессия: на масштабируемых данных получили оценку F1- 0.50\n",
    "  - На масштабированной выборке и увеличенной логистическая регрессия показала рез-т F1- 0.49, после увеличения метрика снизилась\n",
    "- Так же, проверили нашу модель на адекватность сравнив со случайной,оценка случайной модели F1- 0.34, в то время как F1 нашей модели составляет 0.62 , это значит что наша модель не предсказывает случайным образом и она адекватна\n",
    "\n",
    "**На мой взгляд, самым лучшим методом борьбы с дисбалансом в данной истории оказалось увеличение выборки**"
   ]
  },
  {
   "cell_type": "markdown",
   "id": "0dc3d607",
   "metadata": {},
   "source": [
    "## Чек-лист готовности проекта"
   ]
  },
  {
   "cell_type": "markdown",
   "id": "e30348a0",
   "metadata": {},
   "source": [
    "- [x]  Jupyter Notebook открыт\n",
    "- [x]  Весь код выполняется без ошибок\n",
    "- [x]  Ячейки с кодом расположены в порядке исполнения\n",
    "- [x]  Выполнен шаг 1: данные подготовлены\n",
    "- [x]  Выполнен шаг 2: задача исследована\n",
    "    - [x]  Исследован баланс классов\n",
    "    - [x]  Изучены модели без учёта дисбаланса\n",
    "    - [x]  Написаны выводы по результатам исследования\n",
    "- [x]  Выполнен шаг 3: учтён дисбаланс\n",
    "    - [x]  Применено несколько способов борьбы с дисбалансом\n",
    "    - [x]  Написаны выводы по результатам исследования\n",
    "- [x]  Выполнен шаг 4: проведено тестирование\n",
    "- [x]  Удалось достичь *F1*-меры не менее 0.59\n",
    "- [x]  Исследована метрика *AUC-ROC*"
   ]
  }
 ],
 "metadata": {
  "ExecuteTimeLog": [
   {
    "duration": 1652,
    "start_time": "2022-06-30T15:15:10.650Z"
   },
   {
    "duration": 61,
    "start_time": "2022-06-30T15:15:12.304Z"
   },
   {
    "duration": 23,
    "start_time": "2022-06-30T15:15:12.367Z"
   },
   {
    "duration": 14,
    "start_time": "2022-06-30T15:15:12.393Z"
   },
   {
    "duration": 4,
    "start_time": "2022-06-30T15:15:12.409Z"
   },
   {
    "duration": 12,
    "start_time": "2022-06-30T15:15:12.414Z"
   },
   {
    "duration": 20,
    "start_time": "2022-06-30T15:15:12.428Z"
   },
   {
    "duration": 7,
    "start_time": "2022-06-30T15:15:12.449Z"
   },
   {
    "duration": 24,
    "start_time": "2022-06-30T15:15:12.457Z"
   },
   {
    "duration": 15,
    "start_time": "2022-06-30T15:15:12.484Z"
   },
   {
    "duration": 6,
    "start_time": "2022-06-30T15:15:12.501Z"
   },
   {
    "duration": 15,
    "start_time": "2022-06-30T15:15:12.508Z"
   },
   {
    "duration": 7,
    "start_time": "2022-06-30T15:15:12.524Z"
   },
   {
    "duration": 42,
    "start_time": "2022-06-30T15:15:12.532Z"
   },
   {
    "duration": 5,
    "start_time": "2022-06-30T15:15:12.576Z"
   },
   {
    "duration": 40,
    "start_time": "2022-06-30T15:15:12.583Z"
   },
   {
    "duration": 14,
    "start_time": "2022-06-30T15:15:12.625Z"
   },
   {
    "duration": 11,
    "start_time": "2022-06-30T15:15:12.642Z"
   },
   {
    "duration": 168,
    "start_time": "2022-06-30T15:15:12.655Z"
   },
   {
    "duration": 109,
    "start_time": "2022-06-30T15:15:12.825Z"
   },
   {
    "duration": 115,
    "start_time": "2022-06-30T15:15:12.936Z"
   },
   {
    "duration": 4,
    "start_time": "2022-06-30T15:15:13.053Z"
   },
   {
    "duration": 20,
    "start_time": "2022-06-30T15:15:13.058Z"
   },
   {
    "duration": 6,
    "start_time": "2022-06-30T15:15:13.080Z"
   },
   {
    "duration": 19,
    "start_time": "2022-06-30T15:15:13.088Z"
   },
   {
    "duration": 12,
    "start_time": "2022-06-30T15:15:13.109Z"
   },
   {
    "duration": 8,
    "start_time": "2022-06-30T15:15:13.122Z"
   },
   {
    "duration": 4,
    "start_time": "2022-06-30T15:15:13.134Z"
   },
   {
    "duration": 103,
    "start_time": "2022-06-30T15:15:13.140Z"
   },
   {
    "duration": 201,
    "start_time": "2022-06-30T15:15:13.245Z"
   },
   {
    "duration": 5,
    "start_time": "2022-06-30T15:15:13.448Z"
   },
   {
    "duration": 19,
    "start_time": "2022-06-30T15:15:13.455Z"
   },
   {
    "duration": 23,
    "start_time": "2022-06-30T15:15:13.475Z"
   },
   {
    "duration": 18,
    "start_time": "2022-06-30T15:15:13.500Z"
   },
   {
    "duration": 208,
    "start_time": "2022-06-30T15:15:13.519Z"
   },
   {
    "duration": 2,
    "start_time": "2022-06-30T15:15:13.729Z"
   },
   {
    "duration": 296,
    "start_time": "2022-06-30T15:15:13.732Z"
   },
   {
    "duration": 129,
    "start_time": "2022-06-30T15:15:14.030Z"
   },
   {
    "duration": 7,
    "start_time": "2022-06-30T15:15:14.160Z"
   },
   {
    "duration": 7,
    "start_time": "2022-06-30T15:15:14.168Z"
   },
   {
    "duration": 9,
    "start_time": "2022-06-30T15:15:14.176Z"
   },
   {
    "duration": 20,
    "start_time": "2022-06-30T15:15:14.187Z"
   },
   {
    "duration": 16,
    "start_time": "2022-06-30T15:15:14.208Z"
   },
   {
    "duration": 4,
    "start_time": "2022-06-30T15:15:14.226Z"
   },
   {
    "duration": 7,
    "start_time": "2022-06-30T15:15:14.231Z"
   },
   {
    "duration": 733970,
    "start_time": "2022-06-30T15:15:14.240Z"
   },
   {
    "duration": 12,
    "start_time": "2022-06-30T15:27:28.212Z"
   },
   {
    "duration": 33,
    "start_time": "2022-06-30T15:27:28.225Z"
   },
   {
    "duration": 237,
    "start_time": "2022-06-30T15:27:28.259Z"
   },
   {
    "duration": 42,
    "start_time": "2022-06-30T15:27:28.498Z"
   },
   {
    "duration": 126,
    "start_time": "2022-06-30T15:27:28.542Z"
   },
   {
    "duration": 6,
    "start_time": "2022-06-30T15:27:28.669Z"
   },
   {
    "duration": 17,
    "start_time": "2022-06-30T15:27:28.676Z"
   },
   {
    "duration": 20,
    "start_time": "2022-06-30T15:27:28.695Z"
   },
   {
    "duration": 11,
    "start_time": "2022-06-30T15:27:28.716Z"
   },
   {
    "duration": 13,
    "start_time": "2022-06-30T15:27:28.728Z"
   },
   {
    "duration": 15,
    "start_time": "2022-06-30T15:27:28.743Z"
   },
   {
    "duration": 223,
    "start_time": "2022-06-30T15:27:28.760Z"
   },
   {
    "duration": 297,
    "start_time": "2022-06-30T15:27:28.985Z"
   },
   {
    "duration": 41,
    "start_time": "2022-06-30T15:27:29.284Z"
   },
   {
    "duration": 130,
    "start_time": "2022-06-30T15:27:29.326Z"
   },
   {
    "duration": 8,
    "start_time": "2022-06-30T15:27:29.471Z"
   },
   {
    "duration": 16,
    "start_time": "2022-06-30T15:27:29.480Z"
   },
   {
    "duration": 137377,
    "start_time": "2022-06-30T15:27:29.498Z"
   },
   {
    "duration": 4,
    "start_time": "2022-06-30T15:29:46.877Z"
   },
   {
    "duration": 30,
    "start_time": "2022-06-30T15:29:46.882Z"
   },
   {
    "duration": 37,
    "start_time": "2022-06-30T15:29:46.913Z"
   },
   {
    "duration": 73,
    "start_time": "2022-06-30T15:29:46.952Z"
   },
   {
    "duration": 378,
    "start_time": "2022-06-30T15:29:47.027Z"
   },
   {
    "duration": 3,
    "start_time": "2022-06-30T15:29:47.407Z"
   },
   {
    "duration": 232660,
    "start_time": "2022-06-30T15:29:47.423Z"
   },
   {
    "duration": 5,
    "start_time": "2022-06-30T15:33:40.085Z"
   },
   {
    "duration": 35,
    "start_time": "2022-06-30T15:33:40.092Z"
   },
   {
    "duration": 25,
    "start_time": "2022-06-30T15:33:40.129Z"
   },
   {
    "duration": 2,
    "start_time": "2022-06-30T15:33:40.156Z"
   },
   {
    "duration": 390,
    "start_time": "2022-06-30T15:33:40.160Z"
   },
   {
    "duration": 241,
    "start_time": "2022-06-30T15:33:40.552Z"
   },
   {
    "duration": 5,
    "start_time": "2022-06-30T15:33:40.795Z"
   },
   {
    "duration": 47,
    "start_time": "2022-06-30T15:33:40.802Z"
   },
   {
    "duration": 353,
    "start_time": "2022-06-30T15:33:40.927Z"
   },
   {
    "duration": 6,
    "start_time": "2022-06-30T15:33:41.281Z"
   },
   {
    "duration": 7,
    "start_time": "2022-06-30T15:33:41.291Z"
   },
   {
    "duration": 28,
    "start_time": "2022-06-30T15:33:41.299Z"
   },
   {
    "duration": 105,
    "start_time": "2022-06-30T16:04:23.076Z"
   },
   {
    "duration": 4,
    "start_time": "2022-06-30T16:20:43.870Z"
   }
  ],
  "kernelspec": {
   "display_name": "Python 3 (ipykernel)",
   "language": "python",
   "name": "python3"
  },
  "language_info": {
   "codemirror_mode": {
    "name": "ipython",
    "version": 3
   },
   "file_extension": ".py",
   "mimetype": "text/x-python",
   "name": "python",
   "nbconvert_exporter": "python",
   "pygments_lexer": "ipython3",
   "version": "3.9.12"
  },
  "toc": {
   "base_numbering": 1,
   "nav_menu": {},
   "number_sections": true,
   "sideBar": true,
   "skip_h1_title": true,
   "title_cell": "Table of Contents",
   "title_sidebar": "Contents",
   "toc_cell": false,
   "toc_position": {},
   "toc_section_display": true,
   "toc_window_display": false
  }
 },
 "nbformat": 4,
 "nbformat_minor": 5
}
